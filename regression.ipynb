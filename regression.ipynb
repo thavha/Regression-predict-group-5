{
  "nbformat": 4,
  "nbformat_minor": 0,
  "metadata": {
    "colab": {
      "name": "regression.ipynb",
      "provenance": [],
      "collapsed_sections": [],
      "toc_visible": true,
      "include_colab_link": true
    },
    "kernelspec": {
      "name": "python3",
      "display_name": "Python 3"
    }
  },
  "cells": [
    {
      "cell_type": "markdown",
      "metadata": {
        "id": "view-in-github",
        "colab_type": "text"
      },
      "source": [
        "<a href=\"https://colab.research.google.com/github/thavha/Regression-predict-group-5/blob/master/regression.ipynb\" target=\"_parent\"><img src=\"https://colab.research.google.com/assets/colab-badge.svg\" alt=\"Open In Colab\"/></a>"
      ]
    },
    {
      "cell_type": "markdown",
      "metadata": {
        "id": "7dWqazJQhLWs",
        "colab_type": "text"
      },
      "source": [
        "**Data Preprocessing**\n",
        "Importing Liabraries\n"
      ]
    },
    {
      "cell_type": "code",
      "metadata": {
        "id": "bEST_rerhidK",
        "colab_type": "code",
        "colab": {}
      },
      "source": [
        "import numpy as np\n",
        "import matplotlib.pyplot as plt\n",
        "import pandas as pd\n",
        "import seaborn as sns\n",
        "import datetime"
      ],
      "execution_count": 0,
      "outputs": []
    },
    {
      "cell_type": "markdown",
      "metadata": {
        "id": "_eC-1uEgh03Y",
        "colab_type": "text"
      },
      "source": [
        "**Importing the data set** and checking the data"
      ]
    },
    {
      "cell_type": "code",
      "metadata": {
        "id": "JoYZzfmsiFZD",
        "colab_type": "code",
        "colab": {}
      },
      "source": [
        "dataset = pd.read_csv('Train.csv')\n"
      ],
      "execution_count": 0,
      "outputs": []
    },
    {
      "cell_type": "code",
      "metadata": {
        "id": "er__GqbVigR1",
        "colab_type": "code",
        "outputId": "6f5aea37-f989-461f-a03a-929df895e125",
        "colab": {
          "base_uri": "https://localhost:8080/",
          "height": 629
        }
      },
      "source": [
        "dataset.info()"
      ],
      "execution_count": 63,
      "outputs": [
        {
          "output_type": "stream",
          "text": [
            "<class 'pandas.core.frame.DataFrame'>\n",
            "RangeIndex: 21201 entries, 0 to 21200\n",
            "Data columns (total 29 columns):\n",
            " #   Column                                     Non-Null Count  Dtype  \n",
            "---  ------                                     --------------  -----  \n",
            " 0   Order No                                   21201 non-null  object \n",
            " 1   User Id                                    21201 non-null  object \n",
            " 2   Vehicle Type                               21201 non-null  object \n",
            " 3   Platform Type                              21201 non-null  int64  \n",
            " 4   Personal or Business                       21201 non-null  object \n",
            " 5   Placement - Day of Month                   21201 non-null  int64  \n",
            " 6   Placement - Weekday (Mo = 1)               21201 non-null  int64  \n",
            " 7   Placement - Time                           21201 non-null  object \n",
            " 8   Confirmation - Day of Month                21201 non-null  int64  \n",
            " 9   Confirmation - Weekday (Mo = 1)            21201 non-null  int64  \n",
            " 10  Confirmation - Time                        21201 non-null  object \n",
            " 11  Arrival at Pickup - Day of Month           21201 non-null  int64  \n",
            " 12  Arrival at Pickup - Weekday (Mo = 1)       21201 non-null  int64  \n",
            " 13  Arrival at Pickup - Time                   21201 non-null  object \n",
            " 14  Pickup - Day of Month                      21201 non-null  int64  \n",
            " 15  Pickup - Weekday (Mo = 1)                  21201 non-null  int64  \n",
            " 16  Pickup - Time                              21201 non-null  object \n",
            " 17  Arrival at Destination - Day of Month      21201 non-null  int64  \n",
            " 18  Arrival at Destination - Weekday (Mo = 1)  21201 non-null  int64  \n",
            " 19  Arrival at Destination - Time              21201 non-null  object \n",
            " 20  Distance (KM)                              21201 non-null  int64  \n",
            " 21  Temperature                                16835 non-null  float64\n",
            " 22  Precipitation in millimeters               552 non-null    float64\n",
            " 23  Pickup Lat                                 21201 non-null  float64\n",
            " 24  Pickup Long                                21201 non-null  float64\n",
            " 25  Destination Lat                            21201 non-null  float64\n",
            " 26  Destination Long                           21201 non-null  float64\n",
            " 27  Rider Id                                   21201 non-null  object \n",
            " 28  Time from Pickup to Arrival                21201 non-null  int64  \n",
            "dtypes: float64(6), int64(13), object(10)\n",
            "memory usage: 4.7+ MB\n"
          ],
          "name": "stdout"
        }
      ]
    },
    {
      "cell_type": "markdown",
      "metadata": {
        "id": "-3EShME77uR4",
        "colab_type": "text"
      },
      "source": [
        "selecting only the rlevent  columns that will be used for the model and replacing white space with _ on columns names"
      ]
    },
    {
      "cell_type": "code",
      "metadata": {
        "id": "SM6llGGs7y6u",
        "colab_type": "code",
        "colab": {}
      },
      "source": [
        "new_df = dataset[['User Id','Platform Type','Personal or Business','Placement - Day of Month','Placement - Weekday (Mo = 1)','Placement - Time','Confirmation - Time','Arrival at Pickup - Time','Arrival at Destination - Time','Distance (KM)','Temperature','Rider Id','Time from Pickup to Arrival']].copy()\n",
        "new_df.columns = [col.replace(\" \",\"_\") for col in new_df.columns] \n"
      ],
      "execution_count": 0,
      "outputs": []
    },
    {
      "cell_type": "code",
      "metadata": {
        "id": "zO9EDJQM-GjQ",
        "colab_type": "code",
        "outputId": "0098e7a0-eb2f-4ee1-fdc0-42215de6d91a",
        "colab": {
          "base_uri": "https://localhost:8080/",
          "height": 357
        }
      },
      "source": [
        "new_df.info()"
      ],
      "execution_count": 65,
      "outputs": [
        {
          "output_type": "stream",
          "text": [
            "<class 'pandas.core.frame.DataFrame'>\n",
            "RangeIndex: 21201 entries, 0 to 21200\n",
            "Data columns (total 13 columns):\n",
            " #   Column                         Non-Null Count  Dtype  \n",
            "---  ------                         --------------  -----  \n",
            " 0   User_Id                        21201 non-null  object \n",
            " 1   Platform_Type                  21201 non-null  int64  \n",
            " 2   Personal_or_Business           21201 non-null  object \n",
            " 3   Placement_-_Day_of_Month       21201 non-null  int64  \n",
            " 4   Placement_-_Weekday_(Mo_=_1)   21201 non-null  int64  \n",
            " 5   Placement_-_Time               21201 non-null  object \n",
            " 6   Confirmation_-_Time            21201 non-null  object \n",
            " 7   Arrival_at_Pickup_-_Time       21201 non-null  object \n",
            " 8   Arrival_at_Destination_-_Time  21201 non-null  object \n",
            " 9   Distance_(KM)                  21201 non-null  int64  \n",
            " 10  Temperature                    16835 non-null  float64\n",
            " 11  Rider_Id                       21201 non-null  object \n",
            " 12  Time_from_Pickup_to_Arrival    21201 non-null  int64  \n",
            "dtypes: float64(1), int64(5), object(7)\n",
            "memory usage: 2.1+ MB\n"
          ],
          "name": "stdout"
        }
      ]
    },
    {
      "cell_type": "markdown",
      "metadata": {
        "id": "ttIbhriI_Hku",
        "colab_type": "text"
      },
      "source": [
        "encoding personal or business column\n"
      ]
    },
    {
      "cell_type": "code",
      "metadata": {
        "id": "U07kf8Tj8dxi",
        "colab_type": "code",
        "outputId": "2ae9df6c-af57-4d5c-f04d-35aa2eb7721a",
        "colab": {
          "base_uri": "https://localhost:8080/",
          "height": 357
        }
      },
      "source": [
        "new_df = pd.get_dummies(new_df, columns=['Personal_or_Business'], prefix = ['personal'])\n",
        "new_df = new_df.iloc[:, :-1]\n",
        "new_df.columns = [*new_df.columns[:-1], 'Business']\n",
        "new_df.head()\n",
        "new_df.info()"
      ],
      "execution_count": 66,
      "outputs": [
        {
          "output_type": "stream",
          "text": [
            "<class 'pandas.core.frame.DataFrame'>\n",
            "RangeIndex: 21201 entries, 0 to 21200\n",
            "Data columns (total 13 columns):\n",
            " #   Column                         Non-Null Count  Dtype  \n",
            "---  ------                         --------------  -----  \n",
            " 0   User_Id                        21201 non-null  object \n",
            " 1   Platform_Type                  21201 non-null  int64  \n",
            " 2   Placement_-_Day_of_Month       21201 non-null  int64  \n",
            " 3   Placement_-_Weekday_(Mo_=_1)   21201 non-null  int64  \n",
            " 4   Placement_-_Time               21201 non-null  object \n",
            " 5   Confirmation_-_Time            21201 non-null  object \n",
            " 6   Arrival_at_Pickup_-_Time       21201 non-null  object \n",
            " 7   Arrival_at_Destination_-_Time  21201 non-null  object \n",
            " 8   Distance_(KM)                  21201 non-null  int64  \n",
            " 9   Temperature                    16835 non-null  float64\n",
            " 10  Rider_Id                       21201 non-null  object \n",
            " 11  Time_from_Pickup_to_Arrival    21201 non-null  int64  \n",
            " 12  Business                       21201 non-null  uint8  \n",
            "dtypes: float64(1), int64(5), object(6), uint8(1)\n",
            "memory usage: 2.0+ MB\n"
          ],
          "name": "stdout"
        }
      ]
    },
    {
      "cell_type": "code",
      "metadata": {
        "id": "Tc-ZkaTtY7e4",
        "colab_type": "code",
        "colab": {}
      },
      "source": [
        ""
      ],
      "execution_count": 0,
      "outputs": []
    },
    {
      "cell_type": "markdown",
      "metadata": {
        "id": "CY6DfwObC3kv",
        "colab_type": "text"
      },
      "source": [
        "dealing with the missing valuse replace with the mean/median temperature "
      ]
    },
    {
      "cell_type": "code",
      "metadata": {
        "id": "xxFsftuKC68O",
        "colab_type": "code",
        "outputId": "f4a92420-bf2d-4244-c058-acb30a6b2164",
        "colab": {
          "base_uri": "https://localhost:8080/",
          "height": 357
        }
      },
      "source": [
        "new_df['Temperature'] = new_df.Temperature.fillna(new_df.Temperature.median())\n",
        "new_df.head()\n",
        "new_df.info()"
      ],
      "execution_count": 67,
      "outputs": [
        {
          "output_type": "stream",
          "text": [
            "<class 'pandas.core.frame.DataFrame'>\n",
            "RangeIndex: 21201 entries, 0 to 21200\n",
            "Data columns (total 13 columns):\n",
            " #   Column                         Non-Null Count  Dtype  \n",
            "---  ------                         --------------  -----  \n",
            " 0   User_Id                        21201 non-null  object \n",
            " 1   Platform_Type                  21201 non-null  int64  \n",
            " 2   Placement_-_Day_of_Month       21201 non-null  int64  \n",
            " 3   Placement_-_Weekday_(Mo_=_1)   21201 non-null  int64  \n",
            " 4   Placement_-_Time               21201 non-null  object \n",
            " 5   Confirmation_-_Time            21201 non-null  object \n",
            " 6   Arrival_at_Pickup_-_Time       21201 non-null  object \n",
            " 7   Arrival_at_Destination_-_Time  21201 non-null  object \n",
            " 8   Distance_(KM)                  21201 non-null  int64  \n",
            " 9   Temperature                    21201 non-null  float64\n",
            " 10  Rider_Id                       21201 non-null  object \n",
            " 11  Time_from_Pickup_to_Arrival    21201 non-null  int64  \n",
            " 12  Business                       21201 non-null  uint8  \n",
            "dtypes: float64(1), int64(5), object(6), uint8(1)\n",
            "memory usage: 2.0+ MB\n"
          ],
          "name": "stdout"
        }
      ]
    },
    {
      "cell_type": "markdown",
      "metadata": {
        "id": "VghL59-i4fVx",
        "colab_type": "text"
      },
      "source": [
        "dealing with time columns"
      ]
    },
    {
      "cell_type": "code",
      "metadata": {
        "id": "eKOMkTR4D-dl",
        "colab_type": "code",
        "colab": {}
      },
      "source": [
        "new_df['Placement_-_Time 24'] = (pd.to_datetime(new_df['Placement_-_Time'].str.strip(), format='%I:%M:%S %p')\n",
        "                  .dt.strftime('%H:%M'))\n",
        "new_df['Confirmation_-_Time 24'] = (pd.to_datetime(new_df['Confirmation_-_Time'].str.strip(), format='%I:%M:%S %p')\n",
        "                  .dt.strftime('%H:%M'))\n",
        "new_df['Arrival_at_Pickup_-_Time 24'] = (pd.to_datetime(new_df['Arrival_at_Pickup_-_Time'].str.strip(), format='%I:%M:%S %p')\n",
        "                  .dt.strftime('%H:%M'))\n",
        "new_df['Arrival_at_Destination_-_Time 24'] = (pd.to_datetime(new_df['Arrival_at_Destination_-_Time'].str.strip(), format='%I:%M:%S %p')\n",
        "                  .dt.strftime('%H:%M'))"
      ],
      "execution_count": 0,
      "outputs": []
    },
    {
      "cell_type": "code",
      "metadata": {
        "id": "VHybX5hHivuA",
        "colab_type": "code",
        "colab": {
          "base_uri": "https://localhost:8080/",
          "height": 241
        },
        "outputId": "f0f8b946-f340-489a-9e38-733e5ea43266"
      },
      "source": [
        "new_df.head()"
      ],
      "execution_count": 69,
      "outputs": [
        {
          "output_type": "execute_result",
          "data": {
            "text/html": [
              "<div>\n",
              "<style scoped>\n",
              "    .dataframe tbody tr th:only-of-type {\n",
              "        vertical-align: middle;\n",
              "    }\n",
              "\n",
              "    .dataframe tbody tr th {\n",
              "        vertical-align: top;\n",
              "    }\n",
              "\n",
              "    .dataframe thead th {\n",
              "        text-align: right;\n",
              "    }\n",
              "</style>\n",
              "<table border=\"1\" class=\"dataframe\">\n",
              "  <thead>\n",
              "    <tr style=\"text-align: right;\">\n",
              "      <th></th>\n",
              "      <th>User_Id</th>\n",
              "      <th>Platform_Type</th>\n",
              "      <th>Placement_-_Day_of_Month</th>\n",
              "      <th>Placement_-_Weekday_(Mo_=_1)</th>\n",
              "      <th>Placement_-_Time</th>\n",
              "      <th>Confirmation_-_Time</th>\n",
              "      <th>Arrival_at_Pickup_-_Time</th>\n",
              "      <th>Arrival_at_Destination_-_Time</th>\n",
              "      <th>Distance_(KM)</th>\n",
              "      <th>Temperature</th>\n",
              "      <th>Rider_Id</th>\n",
              "      <th>Time_from_Pickup_to_Arrival</th>\n",
              "      <th>Business</th>\n",
              "      <th>Placement_-_Time 24</th>\n",
              "      <th>Confirmation_-_Time 24</th>\n",
              "      <th>Arrival_at_Pickup_-_Time 24</th>\n",
              "      <th>Arrival_at_Destination_-_Time 24</th>\n",
              "    </tr>\n",
              "  </thead>\n",
              "  <tbody>\n",
              "    <tr>\n",
              "      <th>0</th>\n",
              "      <td>User_Id_633</td>\n",
              "      <td>3</td>\n",
              "      <td>9</td>\n",
              "      <td>5</td>\n",
              "      <td>9:35:46 AM</td>\n",
              "      <td>9:40:10 AM</td>\n",
              "      <td>10:04:47 AM</td>\n",
              "      <td>10:39:55 AM</td>\n",
              "      <td>4</td>\n",
              "      <td>20.4</td>\n",
              "      <td>Rider_Id_432</td>\n",
              "      <td>745</td>\n",
              "      <td>1</td>\n",
              "      <td>09:35</td>\n",
              "      <td>09:40</td>\n",
              "      <td>10:04</td>\n",
              "      <td>10:39</td>\n",
              "    </tr>\n",
              "    <tr>\n",
              "      <th>1</th>\n",
              "      <td>User_Id_2285</td>\n",
              "      <td>3</td>\n",
              "      <td>12</td>\n",
              "      <td>5</td>\n",
              "      <td>11:16:16 AM</td>\n",
              "      <td>11:23:21 AM</td>\n",
              "      <td>11:40:22 AM</td>\n",
              "      <td>12:17:22 PM</td>\n",
              "      <td>16</td>\n",
              "      <td>26.4</td>\n",
              "      <td>Rider_Id_856</td>\n",
              "      <td>1993</td>\n",
              "      <td>0</td>\n",
              "      <td>11:16</td>\n",
              "      <td>11:23</td>\n",
              "      <td>11:40</td>\n",
              "      <td>12:17</td>\n",
              "    </tr>\n",
              "    <tr>\n",
              "      <th>2</th>\n",
              "      <td>User_Id_265</td>\n",
              "      <td>3</td>\n",
              "      <td>30</td>\n",
              "      <td>2</td>\n",
              "      <td>12:39:25 PM</td>\n",
              "      <td>12:42:44 PM</td>\n",
              "      <td>12:49:34 PM</td>\n",
              "      <td>1:00:38 PM</td>\n",
              "      <td>3</td>\n",
              "      <td>23.5</td>\n",
              "      <td>Rider_Id_155</td>\n",
              "      <td>455</td>\n",
              "      <td>1</td>\n",
              "      <td>12:39</td>\n",
              "      <td>12:42</td>\n",
              "      <td>12:49</td>\n",
              "      <td>13:00</td>\n",
              "    </tr>\n",
              "    <tr>\n",
              "      <th>3</th>\n",
              "      <td>User_Id_1402</td>\n",
              "      <td>3</td>\n",
              "      <td>15</td>\n",
              "      <td>5</td>\n",
              "      <td>9:25:34 AM</td>\n",
              "      <td>9:26:05 AM</td>\n",
              "      <td>9:37:56 AM</td>\n",
              "      <td>10:05:27 AM</td>\n",
              "      <td>9</td>\n",
              "      <td>19.2</td>\n",
              "      <td>Rider_Id_855</td>\n",
              "      <td>1341</td>\n",
              "      <td>1</td>\n",
              "      <td>09:25</td>\n",
              "      <td>09:26</td>\n",
              "      <td>09:37</td>\n",
              "      <td>10:05</td>\n",
              "    </tr>\n",
              "    <tr>\n",
              "      <th>4</th>\n",
              "      <td>User_Id_1737</td>\n",
              "      <td>1</td>\n",
              "      <td>13</td>\n",
              "      <td>1</td>\n",
              "      <td>9:55:18 AM</td>\n",
              "      <td>9:56:18 AM</td>\n",
              "      <td>10:03:53 AM</td>\n",
              "      <td>10:25:37 AM</td>\n",
              "      <td>9</td>\n",
              "      <td>15.4</td>\n",
              "      <td>Rider_Id_770</td>\n",
              "      <td>1214</td>\n",
              "      <td>0</td>\n",
              "      <td>09:55</td>\n",
              "      <td>09:56</td>\n",
              "      <td>10:03</td>\n",
              "      <td>10:25</td>\n",
              "    </tr>\n",
              "  </tbody>\n",
              "</table>\n",
              "</div>"
            ],
            "text/plain": [
              "        User_Id  ...  Arrival_at_Destination_-_Time 24\n",
              "0   User_Id_633  ...                             10:39\n",
              "1  User_Id_2285  ...                             12:17\n",
              "2   User_Id_265  ...                             13:00\n",
              "3  User_Id_1402  ...                             10:05\n",
              "4  User_Id_1737  ...                             10:25\n",
              "\n",
              "[5 rows x 17 columns]"
            ]
          },
          "metadata": {
            "tags": []
          },
          "execution_count": 69
        }
      ]
    },
    {
      "cell_type": "code",
      "metadata": {
        "id": "8De6RpakGZDZ",
        "colab_type": "code",
        "colab": {
          "base_uri": "https://localhost:8080/",
          "height": 456
        },
        "outputId": "94efa792-4e49-42c8-b26f-d985315a22c6"
      },
      "source": [
        "new_df.drop(['Placement_-_Time', 'Confirmation_-_Time','Arrival_at_Pickup_-_Time','Arrival_at_Destination_-_Time','User_Id','Rider_Id'], axis=1)"
      ],
      "execution_count": 70,
      "outputs": [
        {
          "output_type": "execute_result",
          "data": {
            "text/html": [
              "<div>\n",
              "<style scoped>\n",
              "    .dataframe tbody tr th:only-of-type {\n",
              "        vertical-align: middle;\n",
              "    }\n",
              "\n",
              "    .dataframe tbody tr th {\n",
              "        vertical-align: top;\n",
              "    }\n",
              "\n",
              "    .dataframe thead th {\n",
              "        text-align: right;\n",
              "    }\n",
              "</style>\n",
              "<table border=\"1\" class=\"dataframe\">\n",
              "  <thead>\n",
              "    <tr style=\"text-align: right;\">\n",
              "      <th></th>\n",
              "      <th>Platform_Type</th>\n",
              "      <th>Placement_-_Day_of_Month</th>\n",
              "      <th>Placement_-_Weekday_(Mo_=_1)</th>\n",
              "      <th>Distance_(KM)</th>\n",
              "      <th>Temperature</th>\n",
              "      <th>Time_from_Pickup_to_Arrival</th>\n",
              "      <th>Business</th>\n",
              "      <th>Placement_-_Time 24</th>\n",
              "      <th>Confirmation_-_Time 24</th>\n",
              "      <th>Arrival_at_Pickup_-_Time 24</th>\n",
              "      <th>Arrival_at_Destination_-_Time 24</th>\n",
              "    </tr>\n",
              "  </thead>\n",
              "  <tbody>\n",
              "    <tr>\n",
              "      <th>0</th>\n",
              "      <td>3</td>\n",
              "      <td>9</td>\n",
              "      <td>5</td>\n",
              "      <td>4</td>\n",
              "      <td>20.4</td>\n",
              "      <td>745</td>\n",
              "      <td>1</td>\n",
              "      <td>09:35</td>\n",
              "      <td>09:40</td>\n",
              "      <td>10:04</td>\n",
              "      <td>10:39</td>\n",
              "    </tr>\n",
              "    <tr>\n",
              "      <th>1</th>\n",
              "      <td>3</td>\n",
              "      <td>12</td>\n",
              "      <td>5</td>\n",
              "      <td>16</td>\n",
              "      <td>26.4</td>\n",
              "      <td>1993</td>\n",
              "      <td>0</td>\n",
              "      <td>11:16</td>\n",
              "      <td>11:23</td>\n",
              "      <td>11:40</td>\n",
              "      <td>12:17</td>\n",
              "    </tr>\n",
              "    <tr>\n",
              "      <th>2</th>\n",
              "      <td>3</td>\n",
              "      <td>30</td>\n",
              "      <td>2</td>\n",
              "      <td>3</td>\n",
              "      <td>23.5</td>\n",
              "      <td>455</td>\n",
              "      <td>1</td>\n",
              "      <td>12:39</td>\n",
              "      <td>12:42</td>\n",
              "      <td>12:49</td>\n",
              "      <td>13:00</td>\n",
              "    </tr>\n",
              "    <tr>\n",
              "      <th>3</th>\n",
              "      <td>3</td>\n",
              "      <td>15</td>\n",
              "      <td>5</td>\n",
              "      <td>9</td>\n",
              "      <td>19.2</td>\n",
              "      <td>1341</td>\n",
              "      <td>1</td>\n",
              "      <td>09:25</td>\n",
              "      <td>09:26</td>\n",
              "      <td>09:37</td>\n",
              "      <td>10:05</td>\n",
              "    </tr>\n",
              "    <tr>\n",
              "      <th>4</th>\n",
              "      <td>1</td>\n",
              "      <td>13</td>\n",
              "      <td>1</td>\n",
              "      <td>9</td>\n",
              "      <td>15.4</td>\n",
              "      <td>1214</td>\n",
              "      <td>0</td>\n",
              "      <td>09:55</td>\n",
              "      <td>09:56</td>\n",
              "      <td>10:03</td>\n",
              "      <td>10:25</td>\n",
              "    </tr>\n",
              "    <tr>\n",
              "      <th>...</th>\n",
              "      <td>...</td>\n",
              "      <td>...</td>\n",
              "      <td>...</td>\n",
              "      <td>...</td>\n",
              "      <td>...</td>\n",
              "      <td>...</td>\n",
              "      <td>...</td>\n",
              "      <td>...</td>\n",
              "      <td>...</td>\n",
              "      <td>...</td>\n",
              "      <td>...</td>\n",
              "    </tr>\n",
              "    <tr>\n",
              "      <th>21196</th>\n",
              "      <td>3</td>\n",
              "      <td>20</td>\n",
              "      <td>3</td>\n",
              "      <td>3</td>\n",
              "      <td>28.6</td>\n",
              "      <td>9</td>\n",
              "      <td>0</td>\n",
              "      <td>15:54</td>\n",
              "      <td>15:55</td>\n",
              "      <td>15:58</td>\n",
              "      <td>16:20</td>\n",
              "    </tr>\n",
              "    <tr>\n",
              "      <th>21197</th>\n",
              "      <td>3</td>\n",
              "      <td>13</td>\n",
              "      <td>6</td>\n",
              "      <td>7</td>\n",
              "      <td>26.0</td>\n",
              "      <td>770</td>\n",
              "      <td>1</td>\n",
              "      <td>10:13</td>\n",
              "      <td>10:13</td>\n",
              "      <td>10:20</td>\n",
              "      <td>10:46</td>\n",
              "    </tr>\n",
              "    <tr>\n",
              "      <th>21198</th>\n",
              "      <td>3</td>\n",
              "      <td>7</td>\n",
              "      <td>4</td>\n",
              "      <td>20</td>\n",
              "      <td>29.2</td>\n",
              "      <td>2953</td>\n",
              "      <td>1</td>\n",
              "      <td>17:06</td>\n",
              "      <td>17:07</td>\n",
              "      <td>17:30</td>\n",
              "      <td>18:40</td>\n",
              "    </tr>\n",
              "    <tr>\n",
              "      <th>21199</th>\n",
              "      <td>1</td>\n",
              "      <td>4</td>\n",
              "      <td>3</td>\n",
              "      <td>13</td>\n",
              "      <td>15.0</td>\n",
              "      <td>1380</td>\n",
              "      <td>0</td>\n",
              "      <td>09:31</td>\n",
              "      <td>09:31</td>\n",
              "      <td>09:38</td>\n",
              "      <td>10:08</td>\n",
              "    </tr>\n",
              "    <tr>\n",
              "      <th>21200</th>\n",
              "      <td>3</td>\n",
              "      <td>26</td>\n",
              "      <td>2</td>\n",
              "      <td>12</td>\n",
              "      <td>30.9</td>\n",
              "      <td>2128</td>\n",
              "      <td>1</td>\n",
              "      <td>14:19</td>\n",
              "      <td>14:20</td>\n",
              "      <td>14:24</td>\n",
              "      <td>15:17</td>\n",
              "    </tr>\n",
              "  </tbody>\n",
              "</table>\n",
              "<p>21201 rows × 11 columns</p>\n",
              "</div>"
            ],
            "text/plain": [
              "       Platform_Type  ...  Arrival_at_Destination_-_Time 24\n",
              "0                  3  ...                             10:39\n",
              "1                  3  ...                             12:17\n",
              "2                  3  ...                             13:00\n",
              "3                  3  ...                             10:05\n",
              "4                  1  ...                             10:25\n",
              "...              ...  ...                               ...\n",
              "21196              3  ...                             16:20\n",
              "21197              3  ...                             10:46\n",
              "21198              3  ...                             18:40\n",
              "21199              1  ...                             10:08\n",
              "21200              3  ...                             15:17\n",
              "\n",
              "[21201 rows x 11 columns]"
            ]
          },
          "metadata": {
            "tags": []
          },
          "execution_count": 70
        }
      ]
    },
    {
      "cell_type": "code",
      "metadata": {
        "id": "ziZ0PD0vOt6z",
        "colab_type": "code",
        "colab": {
          "base_uri": "https://localhost:8080/",
          "height": 425
        },
        "outputId": "fbf0bf6d-d547-4aa0-cbc3-277b6fec8bfb"
      },
      "source": [
        "new_df.info()"
      ],
      "execution_count": 71,
      "outputs": [
        {
          "output_type": "stream",
          "text": [
            "<class 'pandas.core.frame.DataFrame'>\n",
            "RangeIndex: 21201 entries, 0 to 21200\n",
            "Data columns (total 17 columns):\n",
            " #   Column                            Non-Null Count  Dtype  \n",
            "---  ------                            --------------  -----  \n",
            " 0   User_Id                           21201 non-null  object \n",
            " 1   Platform_Type                     21201 non-null  int64  \n",
            " 2   Placement_-_Day_of_Month          21201 non-null  int64  \n",
            " 3   Placement_-_Weekday_(Mo_=_1)      21201 non-null  int64  \n",
            " 4   Placement_-_Time                  21201 non-null  object \n",
            " 5   Confirmation_-_Time               21201 non-null  object \n",
            " 6   Arrival_at_Pickup_-_Time          21201 non-null  object \n",
            " 7   Arrival_at_Destination_-_Time     21201 non-null  object \n",
            " 8   Distance_(KM)                     21201 non-null  int64  \n",
            " 9   Temperature                       21201 non-null  float64\n",
            " 10  Rider_Id                          21201 non-null  object \n",
            " 11  Time_from_Pickup_to_Arrival       21201 non-null  int64  \n",
            " 12  Business                          21201 non-null  uint8  \n",
            " 13  Placement_-_Time 24               21201 non-null  object \n",
            " 14  Confirmation_-_Time 24            21201 non-null  object \n",
            " 15  Arrival_at_Pickup_-_Time 24       21201 non-null  object \n",
            " 16  Arrival_at_Destination_-_Time 24  21201 non-null  object \n",
            "dtypes: float64(1), int64(5), object(10), uint8(1)\n",
            "memory usage: 2.6+ MB\n"
          ],
          "name": "stdout"
        }
      ]
    },
    {
      "cell_type": "markdown",
      "metadata": {
        "id": "MMHpbZF9PsyA",
        "colab_type": "text"
      },
      "source": [
        "spliting data into X and Y , first converting time into hours lapse since the day started"
      ]
    },
    {
      "cell_type": "code",
      "metadata": {
        "id": "NiQsdEEkPpW8",
        "colab_type": "code",
        "colab": {
          "base_uri": "https://localhost:8080/",
          "height": 241
        },
        "outputId": "166925ac-c6f8-4a51-c43e-2efbe9cabf1f"
      },
      "source": [
        "new_df = new_df[['Platform_Type', 'Arrival_at_Pickup_-_Time 24','Confirmation_-_Time 24','Placement_-_Time 24','Business','Temperature','Distance_(KM)','Placement_-_Weekday_(Mo_=_1)','Placement_-_Day_of_Month','Platform_Type', 'Arrival_at_Destination_-_Time 24', 'Time_from_Pickup_to_Arrival']]\n",
        "new_df['Placement_-_Time 24'] = new_df['Placement_-_Time 24'].str.replace(':','.')\n",
        "new_df['Confirmation_-_Time 24'] = new_df['Confirmation_-_Time 24'].str.replace(':','.')\n",
        "new_df['Arrival_at_Pickup_-_Time 24'] = new_df['Arrival_at_Pickup_-_Time 24'].str.replace(':','.')\n",
        "new_df['Arrival_at_Destination_-_Time 24'] = new_df['Arrival_at_Destination_-_Time 24'].str.replace(':','.')\n",
        "new_df.head()\n",
        "\n"
      ],
      "execution_count": 74,
      "outputs": [
        {
          "output_type": "execute_result",
          "data": {
            "text/html": [
              "<div>\n",
              "<style scoped>\n",
              "    .dataframe tbody tr th:only-of-type {\n",
              "        vertical-align: middle;\n",
              "    }\n",
              "\n",
              "    .dataframe tbody tr th {\n",
              "        vertical-align: top;\n",
              "    }\n",
              "\n",
              "    .dataframe thead th {\n",
              "        text-align: right;\n",
              "    }\n",
              "</style>\n",
              "<table border=\"1\" class=\"dataframe\">\n",
              "  <thead>\n",
              "    <tr style=\"text-align: right;\">\n",
              "      <th></th>\n",
              "      <th>Platform_Type</th>\n",
              "      <th>Platform_Type</th>\n",
              "      <th>Platform_Type</th>\n",
              "      <th>Platform_Type</th>\n",
              "      <th>Arrival_at_Pickup_-_Time 24</th>\n",
              "      <th>Confirmation_-_Time 24</th>\n",
              "      <th>Placement_-_Time 24</th>\n",
              "      <th>Business</th>\n",
              "      <th>Temperature</th>\n",
              "      <th>Distance_(KM)</th>\n",
              "      <th>Placement_-_Weekday_(Mo_=_1)</th>\n",
              "      <th>Placement_-_Day_of_Month</th>\n",
              "      <th>Platform_Type</th>\n",
              "      <th>Platform_Type</th>\n",
              "      <th>Platform_Type</th>\n",
              "      <th>Platform_Type</th>\n",
              "      <th>Arrival_at_Destination_-_Time 24</th>\n",
              "      <th>Time_from_Pickup_to_Arrival</th>\n",
              "    </tr>\n",
              "  </thead>\n",
              "  <tbody>\n",
              "    <tr>\n",
              "      <th>0</th>\n",
              "      <td>3</td>\n",
              "      <td>3</td>\n",
              "      <td>3</td>\n",
              "      <td>3</td>\n",
              "      <td>10.04</td>\n",
              "      <td>09.40</td>\n",
              "      <td>09.35</td>\n",
              "      <td>1</td>\n",
              "      <td>20.4</td>\n",
              "      <td>4</td>\n",
              "      <td>5</td>\n",
              "      <td>9</td>\n",
              "      <td>3</td>\n",
              "      <td>3</td>\n",
              "      <td>3</td>\n",
              "      <td>3</td>\n",
              "      <td>10.39</td>\n",
              "      <td>745</td>\n",
              "    </tr>\n",
              "    <tr>\n",
              "      <th>1</th>\n",
              "      <td>3</td>\n",
              "      <td>3</td>\n",
              "      <td>3</td>\n",
              "      <td>3</td>\n",
              "      <td>11.40</td>\n",
              "      <td>11.23</td>\n",
              "      <td>11.16</td>\n",
              "      <td>0</td>\n",
              "      <td>26.4</td>\n",
              "      <td>16</td>\n",
              "      <td>5</td>\n",
              "      <td>12</td>\n",
              "      <td>3</td>\n",
              "      <td>3</td>\n",
              "      <td>3</td>\n",
              "      <td>3</td>\n",
              "      <td>12.17</td>\n",
              "      <td>1993</td>\n",
              "    </tr>\n",
              "    <tr>\n",
              "      <th>2</th>\n",
              "      <td>3</td>\n",
              "      <td>3</td>\n",
              "      <td>3</td>\n",
              "      <td>3</td>\n",
              "      <td>12.49</td>\n",
              "      <td>12.42</td>\n",
              "      <td>12.39</td>\n",
              "      <td>1</td>\n",
              "      <td>23.5</td>\n",
              "      <td>3</td>\n",
              "      <td>2</td>\n",
              "      <td>30</td>\n",
              "      <td>3</td>\n",
              "      <td>3</td>\n",
              "      <td>3</td>\n",
              "      <td>3</td>\n",
              "      <td>13.00</td>\n",
              "      <td>455</td>\n",
              "    </tr>\n",
              "    <tr>\n",
              "      <th>3</th>\n",
              "      <td>3</td>\n",
              "      <td>3</td>\n",
              "      <td>3</td>\n",
              "      <td>3</td>\n",
              "      <td>09.37</td>\n",
              "      <td>09.26</td>\n",
              "      <td>09.25</td>\n",
              "      <td>1</td>\n",
              "      <td>19.2</td>\n",
              "      <td>9</td>\n",
              "      <td>5</td>\n",
              "      <td>15</td>\n",
              "      <td>3</td>\n",
              "      <td>3</td>\n",
              "      <td>3</td>\n",
              "      <td>3</td>\n",
              "      <td>10.05</td>\n",
              "      <td>1341</td>\n",
              "    </tr>\n",
              "    <tr>\n",
              "      <th>4</th>\n",
              "      <td>1</td>\n",
              "      <td>1</td>\n",
              "      <td>1</td>\n",
              "      <td>1</td>\n",
              "      <td>10.03</td>\n",
              "      <td>09.56</td>\n",
              "      <td>09.55</td>\n",
              "      <td>0</td>\n",
              "      <td>15.4</td>\n",
              "      <td>9</td>\n",
              "      <td>1</td>\n",
              "      <td>13</td>\n",
              "      <td>1</td>\n",
              "      <td>1</td>\n",
              "      <td>1</td>\n",
              "      <td>1</td>\n",
              "      <td>10.25</td>\n",
              "      <td>1214</td>\n",
              "    </tr>\n",
              "  </tbody>\n",
              "</table>\n",
              "</div>"
            ],
            "text/plain": [
              "   Platform_Type  ...  Time_from_Pickup_to_Arrival\n",
              "0              3  ...                          745\n",
              "1              3  ...                         1993\n",
              "2              3  ...                          455\n",
              "3              3  ...                         1341\n",
              "4              1  ...                         1214\n",
              "\n",
              "[5 rows x 18 columns]"
            ]
          },
          "metadata": {
            "tags": []
          },
          "execution_count": 74
        }
      ]
    },
    {
      "cell_type": "code",
      "metadata": {
        "id": "PeR1Kep0R4pS",
        "colab_type": "code",
        "colab": {}
      },
      "source": [
        "x =pd.DataFrame(new_df.iloc[:,:-1].values)\n",
        "y = new_df.iloc[:,-1].values"
      ],
      "execution_count": 0,
      "outputs": []
    },
    {
      "cell_type": "markdown",
      "metadata": {
        "id": "oHfnc9_1Sjio",
        "colab_type": "text"
      },
      "source": [
        "Rescaling the x values using standardisation"
      ]
    },
    {
      "cell_type": "code",
      "metadata": {
        "id": "aRS-Gq77R85-",
        "colab_type": "code",
        "colab": {
          "base_uri": "https://localhost:8080/",
          "height": 224
        },
        "outputId": "6617069f-49d6-4f8b-ab59-ca30e8c74c39"
      },
      "source": [
        "from sklearn.preprocessing import StandardScaler\n",
        "scaler = StandardScaler()\n",
        "X_scaled = scaler.fit_transform(x)\n",
        "X_standardise = pd.DataFrame(X_scaled,columns=x.columns)\n",
        "X_standardise.head()"
      ],
      "execution_count": 80,
      "outputs": [
        {
          "output_type": "execute_result",
          "data": {
            "text/html": [
              "<div>\n",
              "<style scoped>\n",
              "    .dataframe tbody tr th:only-of-type {\n",
              "        vertical-align: middle;\n",
              "    }\n",
              "\n",
              "    .dataframe tbody tr th {\n",
              "        vertical-align: top;\n",
              "    }\n",
              "\n",
              "    .dataframe thead th {\n",
              "        text-align: right;\n",
              "    }\n",
              "</style>\n",
              "<table border=\"1\" class=\"dataframe\">\n",
              "  <thead>\n",
              "    <tr style=\"text-align: right;\">\n",
              "      <th></th>\n",
              "      <th>0</th>\n",
              "      <th>1</th>\n",
              "      <th>2</th>\n",
              "      <th>3</th>\n",
              "      <th>4</th>\n",
              "      <th>5</th>\n",
              "      <th>6</th>\n",
              "      <th>7</th>\n",
              "      <th>8</th>\n",
              "      <th>9</th>\n",
              "      <th>10</th>\n",
              "      <th>11</th>\n",
              "      <th>12</th>\n",
              "      <th>13</th>\n",
              "      <th>14</th>\n",
              "      <th>15</th>\n",
              "      <th>16</th>\n",
              "    </tr>\n",
              "  </thead>\n",
              "  <tbody>\n",
              "    <tr>\n",
              "      <th>0</th>\n",
              "      <td>0.396406</td>\n",
              "      <td>0.396406</td>\n",
              "      <td>0.396406</td>\n",
              "      <td>0.396406</td>\n",
              "      <td>-1.147546</td>\n",
              "      <td>-1.315511</td>\n",
              "      <td>-1.294933</td>\n",
              "      <td>0.468583</td>\n",
              "      <td>-0.902320</td>\n",
              "      <td>-0.971370</td>\n",
              "      <td>1.122927</td>\n",
              "      <td>-0.756213</td>\n",
              "      <td>0.396406</td>\n",
              "      <td>0.396406</td>\n",
              "      <td>0.396406</td>\n",
              "      <td>0.396406</td>\n",
              "      <td>-1.254938</td>\n",
              "    </tr>\n",
              "    <tr>\n",
              "      <th>1</th>\n",
              "      <td>0.396406</td>\n",
              "      <td>0.396406</td>\n",
              "      <td>0.396406</td>\n",
              "      <td>0.396406</td>\n",
              "      <td>-0.612914</td>\n",
              "      <td>-0.595513</td>\n",
              "      <td>-0.578807</td>\n",
              "      <td>-2.134095</td>\n",
              "      <td>0.959066</td>\n",
              "      <td>1.145469</td>\n",
              "      <td>1.122927</td>\n",
              "      <td>-0.415254</td>\n",
              "      <td>0.396406</td>\n",
              "      <td>0.396406</td>\n",
              "      <td>0.396406</td>\n",
              "      <td>0.396406</td>\n",
              "      <td>-0.558816</td>\n",
              "    </tr>\n",
              "    <tr>\n",
              "      <th>2</th>\n",
              "      <td>0.396406</td>\n",
              "      <td>0.396406</td>\n",
              "      <td>0.396406</td>\n",
              "      <td>0.396406</td>\n",
              "      <td>-0.184422</td>\n",
              "      <td>-0.127317</td>\n",
              "      <td>-0.092157</td>\n",
              "      <td>0.468583</td>\n",
              "      <td>0.059396</td>\n",
              "      <td>-1.147774</td>\n",
              "      <td>-0.791244</td>\n",
              "      <td>1.630501</td>\n",
              "      <td>0.396406</td>\n",
              "      <td>0.396406</td>\n",
              "      <td>0.396406</td>\n",
              "      <td>0.396406</td>\n",
              "      <td>-0.234220</td>\n",
              "    </tr>\n",
              "    <tr>\n",
              "      <th>3</th>\n",
              "      <td>0.396406</td>\n",
              "      <td>0.396406</td>\n",
              "      <td>0.396406</td>\n",
              "      <td>0.396406</td>\n",
              "      <td>-1.410931</td>\n",
              "      <td>-1.370593</td>\n",
              "      <td>-1.334498</td>\n",
              "      <td>0.468583</td>\n",
              "      <td>-1.274597</td>\n",
              "      <td>-0.089354</td>\n",
              "      <td>1.122927</td>\n",
              "      <td>-0.074294</td>\n",
              "      <td>0.396406</td>\n",
              "      <td>0.396406</td>\n",
              "      <td>0.396406</td>\n",
              "      <td>0.396406</td>\n",
              "      <td>-1.387905</td>\n",
              "    </tr>\n",
              "    <tr>\n",
              "      <th>4</th>\n",
              "      <td>-2.802759</td>\n",
              "      <td>-2.802759</td>\n",
              "      <td>-2.802759</td>\n",
              "      <td>-2.802759</td>\n",
              "      <td>-1.151477</td>\n",
              "      <td>-1.252560</td>\n",
              "      <td>-1.215803</td>\n",
              "      <td>-2.134095</td>\n",
              "      <td>-2.453475</td>\n",
              "      <td>-0.089354</td>\n",
              "      <td>-1.429301</td>\n",
              "      <td>-0.301601</td>\n",
              "      <td>-2.802759</td>\n",
              "      <td>-2.802759</td>\n",
              "      <td>-2.802759</td>\n",
              "      <td>-2.802759</td>\n",
              "      <td>-1.309689</td>\n",
              "    </tr>\n",
              "  </tbody>\n",
              "</table>\n",
              "</div>"
            ],
            "text/plain": [
              "         0         1         2   ...        14        15        16\n",
              "0  0.396406  0.396406  0.396406  ...  0.396406  0.396406 -1.254938\n",
              "1  0.396406  0.396406  0.396406  ...  0.396406  0.396406 -0.558816\n",
              "2  0.396406  0.396406  0.396406  ...  0.396406  0.396406 -0.234220\n",
              "3  0.396406  0.396406  0.396406  ...  0.396406  0.396406 -1.387905\n",
              "4 -2.802759 -2.802759 -2.802759  ... -2.802759 -2.802759 -1.309689\n",
              "\n",
              "[5 rows x 17 columns]"
            ]
          },
          "metadata": {
            "tags": []
          },
          "execution_count": 80
        }
      ]
    },
    {
      "cell_type": "markdown",
      "metadata": {
        "id": "nvWj8_YQeYo_",
        "colab_type": "text"
      },
      "source": [
        "training a model using lasso"
      ]
    },
    {
      "cell_type": "code",
      "metadata": {
        "id": "2rFBOD70ebbu",
        "colab_type": "code",
        "colab": {}
      },
      "source": [
        ""
      ],
      "execution_count": 0,
      "outputs": []
    },
    {
      "cell_type": "code",
      "metadata": {
        "id": "0EAMM7QXT1t1",
        "colab_type": "code",
        "colab": {}
      },
      "source": [
        ""
      ],
      "execution_count": 0,
      "outputs": []
    }
  ]
}
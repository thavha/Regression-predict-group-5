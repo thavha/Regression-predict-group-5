{
  "nbformat": 4,
  "nbformat_minor": 0,
  "metadata": {
    "colab": {
      "name": "regression.ipynb",
      "provenance": [],
      "collapsed_sections": [],
      "toc_visible": true,
      "include_colab_link": true
    },
    "kernelspec": {
      "name": "python3",
      "display_name": "Python 3"
    }
  },
  "cells": [
    {
      "cell_type": "markdown",
      "metadata": {
        "id": "view-in-github",
        "colab_type": "text"
      },
      "source": [
        "<a href=\"https://colab.research.google.com/github/thavha/Regression-predict-group-5/blob/master/latest.ipynb\" target=\"_parent\"><img src=\"https://colab.research.google.com/assets/colab-badge.svg\" alt=\"Open In Colab\"/></a>"
      ]
    },
    {
      "cell_type": "markdown",
      "metadata": {
        "id": "7dWqazJQhLWs",
        "colab_type": "text"
      },
      "source": [
        "**Data Preprocessing**\n",
        "Importing Liabraries\n"
      ]
    },
    {
      "cell_type": "code",
      "metadata": {
        "id": "bEST_rerhidK",
        "colab_type": "code",
        "colab": {}
      },
      "source": [
        "import numpy as np\n",
        "import matplotlib.pyplot as plt\n",
        "import pandas as pd\n",
        "import seaborn as sns\n",
        "import datetime"
      ],
      "execution_count": 0,
      "outputs": []
    },
    {
      "cell_type": "markdown",
      "metadata": {
        "id": "_eC-1uEgh03Y",
        "colab_type": "text"
      },
      "source": [
        "**Importing the data set** and checking the data"
      ]
    },
    {
      "cell_type": "code",
      "metadata": {
        "id": "JoYZzfmsiFZD",
        "colab_type": "code",
        "colab": {
          "base_uri": "https://localhost:8080/",
          "height": 401
        },
        "outputId": "5402f8d2-90ee-42ba-9ae3-3cb1fba90ff4"
      },
      "source": [
        "dataset = pd.read_csv('Train.csv')\n",
        "dataset_test = pd.read_csv('Test.csv')\n",
        "dataset.head()\n",
        "#dataset_test.head()\n"
      ],
      "execution_count": 159,
      "outputs": [
        {
          "output_type": "execute_result",
          "data": {
            "text/html": [
              "<div>\n",
              "<style scoped>\n",
              "    .dataframe tbody tr th:only-of-type {\n",
              "        vertical-align: middle;\n",
              "    }\n",
              "\n",
              "    .dataframe tbody tr th {\n",
              "        vertical-align: top;\n",
              "    }\n",
              "\n",
              "    .dataframe thead th {\n",
              "        text-align: right;\n",
              "    }\n",
              "</style>\n",
              "<table border=\"1\" class=\"dataframe\">\n",
              "  <thead>\n",
              "    <tr style=\"text-align: right;\">\n",
              "      <th></th>\n",
              "      <th>Order No</th>\n",
              "      <th>User Id</th>\n",
              "      <th>Vehicle Type</th>\n",
              "      <th>Platform Type</th>\n",
              "      <th>Personal or Business</th>\n",
              "      <th>Placement - Day of Month</th>\n",
              "      <th>Placement - Weekday (Mo = 1)</th>\n",
              "      <th>Placement - Time</th>\n",
              "      <th>Confirmation - Day of Month</th>\n",
              "      <th>Confirmation - Weekday (Mo = 1)</th>\n",
              "      <th>Confirmation - Time</th>\n",
              "      <th>Arrival at Pickup - Day of Month</th>\n",
              "      <th>Arrival at Pickup - Weekday (Mo = 1)</th>\n",
              "      <th>Arrival at Pickup - Time</th>\n",
              "      <th>Pickup - Day of Month</th>\n",
              "      <th>Pickup - Weekday (Mo = 1)</th>\n",
              "      <th>Pickup - Time</th>\n",
              "      <th>Arrival at Destination - Day of Month</th>\n",
              "      <th>Arrival at Destination - Weekday (Mo = 1)</th>\n",
              "      <th>Arrival at Destination - Time</th>\n",
              "      <th>Distance (KM)</th>\n",
              "      <th>Temperature</th>\n",
              "      <th>Precipitation in millimeters</th>\n",
              "      <th>Pickup Lat</th>\n",
              "      <th>Pickup Long</th>\n",
              "      <th>Destination Lat</th>\n",
              "      <th>Destination Long</th>\n",
              "      <th>Rider Id</th>\n",
              "      <th>Time from Pickup to Arrival</th>\n",
              "    </tr>\n",
              "  </thead>\n",
              "  <tbody>\n",
              "    <tr>\n",
              "      <th>0</th>\n",
              "      <td>Order_No_4211</td>\n",
              "      <td>User_Id_633</td>\n",
              "      <td>Bike</td>\n",
              "      <td>3</td>\n",
              "      <td>Business</td>\n",
              "      <td>9</td>\n",
              "      <td>5</td>\n",
              "      <td>9:35:46 AM</td>\n",
              "      <td>9</td>\n",
              "      <td>5</td>\n",
              "      <td>9:40:10 AM</td>\n",
              "      <td>9</td>\n",
              "      <td>5</td>\n",
              "      <td>10:04:47 AM</td>\n",
              "      <td>9</td>\n",
              "      <td>5</td>\n",
              "      <td>10:27:30 AM</td>\n",
              "      <td>9</td>\n",
              "      <td>5</td>\n",
              "      <td>10:39:55 AM</td>\n",
              "      <td>4</td>\n",
              "      <td>20.4</td>\n",
              "      <td>NaN</td>\n",
              "      <td>-1.317755</td>\n",
              "      <td>36.830370</td>\n",
              "      <td>-1.300406</td>\n",
              "      <td>36.829741</td>\n",
              "      <td>Rider_Id_432</td>\n",
              "      <td>745</td>\n",
              "    </tr>\n",
              "    <tr>\n",
              "      <th>1</th>\n",
              "      <td>Order_No_25375</td>\n",
              "      <td>User_Id_2285</td>\n",
              "      <td>Bike</td>\n",
              "      <td>3</td>\n",
              "      <td>Personal</td>\n",
              "      <td>12</td>\n",
              "      <td>5</td>\n",
              "      <td>11:16:16 AM</td>\n",
              "      <td>12</td>\n",
              "      <td>5</td>\n",
              "      <td>11:23:21 AM</td>\n",
              "      <td>12</td>\n",
              "      <td>5</td>\n",
              "      <td>11:40:22 AM</td>\n",
              "      <td>12</td>\n",
              "      <td>5</td>\n",
              "      <td>11:44:09 AM</td>\n",
              "      <td>12</td>\n",
              "      <td>5</td>\n",
              "      <td>12:17:22 PM</td>\n",
              "      <td>16</td>\n",
              "      <td>26.4</td>\n",
              "      <td>NaN</td>\n",
              "      <td>-1.351453</td>\n",
              "      <td>36.899315</td>\n",
              "      <td>-1.295004</td>\n",
              "      <td>36.814358</td>\n",
              "      <td>Rider_Id_856</td>\n",
              "      <td>1993</td>\n",
              "    </tr>\n",
              "    <tr>\n",
              "      <th>2</th>\n",
              "      <td>Order_No_1899</td>\n",
              "      <td>User_Id_265</td>\n",
              "      <td>Bike</td>\n",
              "      <td>3</td>\n",
              "      <td>Business</td>\n",
              "      <td>30</td>\n",
              "      <td>2</td>\n",
              "      <td>12:39:25 PM</td>\n",
              "      <td>30</td>\n",
              "      <td>2</td>\n",
              "      <td>12:42:44 PM</td>\n",
              "      <td>30</td>\n",
              "      <td>2</td>\n",
              "      <td>12:49:34 PM</td>\n",
              "      <td>30</td>\n",
              "      <td>2</td>\n",
              "      <td>12:53:03 PM</td>\n",
              "      <td>30</td>\n",
              "      <td>2</td>\n",
              "      <td>1:00:38 PM</td>\n",
              "      <td>3</td>\n",
              "      <td>NaN</td>\n",
              "      <td>NaN</td>\n",
              "      <td>-1.308284</td>\n",
              "      <td>36.843419</td>\n",
              "      <td>-1.300921</td>\n",
              "      <td>36.828195</td>\n",
              "      <td>Rider_Id_155</td>\n",
              "      <td>455</td>\n",
              "    </tr>\n",
              "    <tr>\n",
              "      <th>3</th>\n",
              "      <td>Order_No_9336</td>\n",
              "      <td>User_Id_1402</td>\n",
              "      <td>Bike</td>\n",
              "      <td>3</td>\n",
              "      <td>Business</td>\n",
              "      <td>15</td>\n",
              "      <td>5</td>\n",
              "      <td>9:25:34 AM</td>\n",
              "      <td>15</td>\n",
              "      <td>5</td>\n",
              "      <td>9:26:05 AM</td>\n",
              "      <td>15</td>\n",
              "      <td>5</td>\n",
              "      <td>9:37:56 AM</td>\n",
              "      <td>15</td>\n",
              "      <td>5</td>\n",
              "      <td>9:43:06 AM</td>\n",
              "      <td>15</td>\n",
              "      <td>5</td>\n",
              "      <td>10:05:27 AM</td>\n",
              "      <td>9</td>\n",
              "      <td>19.2</td>\n",
              "      <td>NaN</td>\n",
              "      <td>-1.281301</td>\n",
              "      <td>36.832396</td>\n",
              "      <td>-1.257147</td>\n",
              "      <td>36.795063</td>\n",
              "      <td>Rider_Id_855</td>\n",
              "      <td>1341</td>\n",
              "    </tr>\n",
              "    <tr>\n",
              "      <th>4</th>\n",
              "      <td>Order_No_27883</td>\n",
              "      <td>User_Id_1737</td>\n",
              "      <td>Bike</td>\n",
              "      <td>1</td>\n",
              "      <td>Personal</td>\n",
              "      <td>13</td>\n",
              "      <td>1</td>\n",
              "      <td>9:55:18 AM</td>\n",
              "      <td>13</td>\n",
              "      <td>1</td>\n",
              "      <td>9:56:18 AM</td>\n",
              "      <td>13</td>\n",
              "      <td>1</td>\n",
              "      <td>10:03:53 AM</td>\n",
              "      <td>13</td>\n",
              "      <td>1</td>\n",
              "      <td>10:05:23 AM</td>\n",
              "      <td>13</td>\n",
              "      <td>1</td>\n",
              "      <td>10:25:37 AM</td>\n",
              "      <td>9</td>\n",
              "      <td>15.4</td>\n",
              "      <td>NaN</td>\n",
              "      <td>-1.266597</td>\n",
              "      <td>36.792118</td>\n",
              "      <td>-1.295041</td>\n",
              "      <td>36.809817</td>\n",
              "      <td>Rider_Id_770</td>\n",
              "      <td>1214</td>\n",
              "    </tr>\n",
              "  </tbody>\n",
              "</table>\n",
              "</div>"
            ],
            "text/plain": [
              "         Order No       User Id  ...      Rider Id  Time from Pickup to Arrival\n",
              "0   Order_No_4211   User_Id_633  ...  Rider_Id_432                          745\n",
              "1  Order_No_25375  User_Id_2285  ...  Rider_Id_856                         1993\n",
              "2   Order_No_1899   User_Id_265  ...  Rider_Id_155                          455\n",
              "3   Order_No_9336  User_Id_1402  ...  Rider_Id_855                         1341\n",
              "4  Order_No_27883  User_Id_1737  ...  Rider_Id_770                         1214\n",
              "\n",
              "[5 rows x 29 columns]"
            ]
          },
          "metadata": {
            "tags": []
          },
          "execution_count": 159
        }
      ]
    },
    {
      "cell_type": "markdown",
      "metadata": {
        "id": "-3EShME77uR4",
        "colab_type": "text"
      },
      "source": [
        "selecting only the rlevent  columns that will be used for the model and replacing white space with _ on columns names"
      ]
    },
    {
      "cell_type": "code",
      "metadata": {
        "id": "SM6llGGs7y6u",
        "colab_type": "code",
        "colab": {}
      },
      "source": [
        "new_df = dataset[['Order No','User Id','Platform Type','Personal or Business','Placement - Day of Month','Placement - Weekday (Mo = 1)','Placement - Time','Confirmation - Time','Arrival at Pickup - Time','Arrival at Destination - Time','Distance (KM)','Temperature','Rider Id','Time from Pickup to Arrival']].copy()\n",
        "new_df.columns = [col.replace(\" \",\"_\") for col in new_df.columns] \n",
        "dataset_test  = dataset[['User Id','Platform Type','Personal or Business','Placement - Day of Month','Placement - Weekday (Mo = 1)','Placement - Time','Confirmation - Time','Arrival at Pickup - Time','Arrival at Destination - Time','Distance (KM)','Temperature','Rider Id','Time from Pickup to Arrival']].copy()\n",
        "dataset_test.columns = [col.replace(\" \",\"_\") for col in dataset_test.columns] \n"
      ],
      "execution_count": 0,
      "outputs": []
    },
    {
      "cell_type": "markdown",
      "metadata": {
        "id": "ttIbhriI_Hku",
        "colab_type": "text"
      },
      "source": [
        "encoding personal or business column\n"
      ]
    },
    {
      "cell_type": "code",
      "metadata": {
        "id": "U07kf8Tj8dxi",
        "colab_type": "code",
        "colab": {}
      },
      "source": [
        "new_df = pd.get_dummies(new_df, columns=['Personal_or_Business'], prefix = ['personal'])\n",
        "new_df = new_df.iloc[:, :-1]\n",
        "new_df.columns = [*new_df.columns[:-1], 'Business']\n",
        "\n",
        "\n",
        "dataset_test = pd.get_dummies(dataset_test, columns=['Personal_or_Business'], prefix = ['personal'])\n",
        "dataset_test = dataset_test.iloc[:, :-1]\n",
        "dataset_test.columns = [*dataset_test.columns[:-1], 'Business']"
      ],
      "execution_count": 0,
      "outputs": []
    },
    {
      "cell_type": "code",
      "metadata": {
        "id": "Tc-ZkaTtY7e4",
        "colab_type": "code",
        "colab": {}
      },
      "source": [
        ""
      ],
      "execution_count": 0,
      "outputs": []
    },
    {
      "cell_type": "markdown",
      "metadata": {
        "id": "CY6DfwObC3kv",
        "colab_type": "text"
      },
      "source": [
        "dealing with the missing valuse replace with the mean/median temperature "
      ]
    },
    {
      "cell_type": "code",
      "metadata": {
        "id": "xxFsftuKC68O",
        "colab_type": "code",
        "colab": {}
      },
      "source": [
        "new_df['Temperature'] = new_df.Temperature.fillna(new_df.Temperature.median())\n",
        "\n",
        "\n",
        "dataset_test['Temperature'] = dataset_test.Temperature.fillna(dataset_test.Temperature.median())\n"
      ],
      "execution_count": 0,
      "outputs": []
    },
    {
      "cell_type": "markdown",
      "metadata": {
        "id": "VghL59-i4fVx",
        "colab_type": "text"
      },
      "source": [
        "dealing with time columns"
      ]
    },
    {
      "cell_type": "code",
      "metadata": {
        "id": "eKOMkTR4D-dl",
        "colab_type": "code",
        "colab": {}
      },
      "source": [
        "new_df['Placement_-_Time 24'] = (pd.to_datetime(new_df['Placement_-_Time'].str.strip(), format='%I:%M:%S %p')\n",
        "                  .dt.strftime('%H:%M'))\n",
        "new_df['Confirmation_-_Time 24'] = (pd.to_datetime(new_df['Confirmation_-_Time'].str.strip(), format='%I:%M:%S %p')\n",
        "                  .dt.strftime('%H:%M'))\n",
        "new_df['Arrival_at_Pickup_-_Time 24'] = (pd.to_datetime(new_df['Arrival_at_Pickup_-_Time'].str.strip(), format='%I:%M:%S %p')\n",
        "                  .dt.strftime('%H:%M'))\n",
        "new_df['Arrival_at_Destination_-_Time 24'] = (pd.to_datetime(new_df['Arrival_at_Destination_-_Time'].str.strip(), format='%I:%M:%S %p')\n",
        "                  .dt.strftime('%H:%M'))\n",
        "\n",
        "\n",
        "\n",
        "dataset_test['Placement_-_Time 24'] = (pd.to_datetime(new_df['Placement_-_Time'].str.strip(), format='%I:%M:%S %p')\n",
        "                  .dt.strftime('%H:%M'))\n",
        "dataset_test['Confirmation_-_Time 24'] = (pd.to_datetime(new_df['Confirmation_-_Time'].str.strip(), format='%I:%M:%S %p')\n",
        "                  .dt.strftime('%H:%M'))\n",
        "dataset_test['Arrival_at_Pickup_-_Time 24'] = (pd.to_datetime(new_df['Arrival_at_Pickup_-_Time'].str.strip(), format='%I:%M:%S %p')\n",
        "                  .dt.strftime('%H:%M'))\n",
        "dataset_test['Arrival_at_Destination_-_Time 24'] = (pd.to_datetime(new_df['Arrival_at_Destination_-_Time'].str.strip(), format='%I:%M:%S %p')\n",
        "                  .dt.strftime('%H:%M'))"
      ],
      "execution_count": 0,
      "outputs": []
    },
    {
      "cell_type": "code",
      "metadata": {
        "id": "8De6RpakGZDZ",
        "colab_type": "code",
        "outputId": "cace77e2-d687-4d28-8bef-170207a2affd",
        "colab": {
          "base_uri": "https://localhost:8080/",
          "height": 443
        }
      },
      "source": [
        "new_df.drop(['Placement_-_Time', 'Confirmation_-_Time','Arrival_at_Pickup_-_Time','Arrival_at_Destination_-_Time','User_Id','Rider_Id'], axis=1)\n",
        "\n",
        "dataset_test.drop(['Placement_-_Time', 'Confirmation_-_Time','Arrival_at_Pickup_-_Time','Arrival_at_Destination_-_Time','User_Id','Rider_Id'], axis=1)"
      ],
      "execution_count": 61,
      "outputs": [
        {
          "output_type": "execute_result",
          "data": {
            "text/html": [
              "<div>\n",
              "<style scoped>\n",
              "    .dataframe tbody tr th:only-of-type {\n",
              "        vertical-align: middle;\n",
              "    }\n",
              "\n",
              "    .dataframe tbody tr th {\n",
              "        vertical-align: top;\n",
              "    }\n",
              "\n",
              "    .dataframe thead th {\n",
              "        text-align: right;\n",
              "    }\n",
              "</style>\n",
              "<table border=\"1\" class=\"dataframe\">\n",
              "  <thead>\n",
              "    <tr style=\"text-align: right;\">\n",
              "      <th></th>\n",
              "      <th>Platform_Type</th>\n",
              "      <th>Placement_-_Day_of_Month</th>\n",
              "      <th>Placement_-_Weekday_(Mo_=_1)</th>\n",
              "      <th>Distance_(KM)</th>\n",
              "      <th>Temperature</th>\n",
              "      <th>Time_from_Pickup_to_Arrival</th>\n",
              "      <th>Business</th>\n",
              "      <th>Placement_-_Time 24</th>\n",
              "      <th>Confirmation_-_Time 24</th>\n",
              "      <th>Arrival_at_Pickup_-_Time 24</th>\n",
              "      <th>Arrival_at_Destination_-_Time 24</th>\n",
              "    </tr>\n",
              "  </thead>\n",
              "  <tbody>\n",
              "    <tr>\n",
              "      <th>0</th>\n",
              "      <td>3</td>\n",
              "      <td>9</td>\n",
              "      <td>5</td>\n",
              "      <td>4</td>\n",
              "      <td>20.4</td>\n",
              "      <td>745</td>\n",
              "      <td>1</td>\n",
              "      <td>09:35</td>\n",
              "      <td>09:40</td>\n",
              "      <td>10:04</td>\n",
              "      <td>10:39</td>\n",
              "    </tr>\n",
              "    <tr>\n",
              "      <th>1</th>\n",
              "      <td>3</td>\n",
              "      <td>12</td>\n",
              "      <td>5</td>\n",
              "      <td>16</td>\n",
              "      <td>26.4</td>\n",
              "      <td>1993</td>\n",
              "      <td>0</td>\n",
              "      <td>11:16</td>\n",
              "      <td>11:23</td>\n",
              "      <td>11:40</td>\n",
              "      <td>12:17</td>\n",
              "    </tr>\n",
              "    <tr>\n",
              "      <th>2</th>\n",
              "      <td>3</td>\n",
              "      <td>30</td>\n",
              "      <td>2</td>\n",
              "      <td>3</td>\n",
              "      <td>23.5</td>\n",
              "      <td>455</td>\n",
              "      <td>1</td>\n",
              "      <td>12:39</td>\n",
              "      <td>12:42</td>\n",
              "      <td>12:49</td>\n",
              "      <td>13:00</td>\n",
              "    </tr>\n",
              "    <tr>\n",
              "      <th>3</th>\n",
              "      <td>3</td>\n",
              "      <td>15</td>\n",
              "      <td>5</td>\n",
              "      <td>9</td>\n",
              "      <td>19.2</td>\n",
              "      <td>1341</td>\n",
              "      <td>1</td>\n",
              "      <td>09:25</td>\n",
              "      <td>09:26</td>\n",
              "      <td>09:37</td>\n",
              "      <td>10:05</td>\n",
              "    </tr>\n",
              "    <tr>\n",
              "      <th>4</th>\n",
              "      <td>1</td>\n",
              "      <td>13</td>\n",
              "      <td>1</td>\n",
              "      <td>9</td>\n",
              "      <td>15.4</td>\n",
              "      <td>1214</td>\n",
              "      <td>0</td>\n",
              "      <td>09:55</td>\n",
              "      <td>09:56</td>\n",
              "      <td>10:03</td>\n",
              "      <td>10:25</td>\n",
              "    </tr>\n",
              "    <tr>\n",
              "      <th>...</th>\n",
              "      <td>...</td>\n",
              "      <td>...</td>\n",
              "      <td>...</td>\n",
              "      <td>...</td>\n",
              "      <td>...</td>\n",
              "      <td>...</td>\n",
              "      <td>...</td>\n",
              "      <td>...</td>\n",
              "      <td>...</td>\n",
              "      <td>...</td>\n",
              "      <td>...</td>\n",
              "    </tr>\n",
              "    <tr>\n",
              "      <th>21196</th>\n",
              "      <td>3</td>\n",
              "      <td>20</td>\n",
              "      <td>3</td>\n",
              "      <td>3</td>\n",
              "      <td>28.6</td>\n",
              "      <td>9</td>\n",
              "      <td>0</td>\n",
              "      <td>15:54</td>\n",
              "      <td>15:55</td>\n",
              "      <td>15:58</td>\n",
              "      <td>16:20</td>\n",
              "    </tr>\n",
              "    <tr>\n",
              "      <th>21197</th>\n",
              "      <td>3</td>\n",
              "      <td>13</td>\n",
              "      <td>6</td>\n",
              "      <td>7</td>\n",
              "      <td>26.0</td>\n",
              "      <td>770</td>\n",
              "      <td>1</td>\n",
              "      <td>10:13</td>\n",
              "      <td>10:13</td>\n",
              "      <td>10:20</td>\n",
              "      <td>10:46</td>\n",
              "    </tr>\n",
              "    <tr>\n",
              "      <th>21198</th>\n",
              "      <td>3</td>\n",
              "      <td>7</td>\n",
              "      <td>4</td>\n",
              "      <td>20</td>\n",
              "      <td>29.2</td>\n",
              "      <td>2953</td>\n",
              "      <td>1</td>\n",
              "      <td>17:06</td>\n",
              "      <td>17:07</td>\n",
              "      <td>17:30</td>\n",
              "      <td>18:40</td>\n",
              "    </tr>\n",
              "    <tr>\n",
              "      <th>21199</th>\n",
              "      <td>1</td>\n",
              "      <td>4</td>\n",
              "      <td>3</td>\n",
              "      <td>13</td>\n",
              "      <td>15.0</td>\n",
              "      <td>1380</td>\n",
              "      <td>0</td>\n",
              "      <td>09:31</td>\n",
              "      <td>09:31</td>\n",
              "      <td>09:38</td>\n",
              "      <td>10:08</td>\n",
              "    </tr>\n",
              "    <tr>\n",
              "      <th>21200</th>\n",
              "      <td>3</td>\n",
              "      <td>26</td>\n",
              "      <td>2</td>\n",
              "      <td>12</td>\n",
              "      <td>30.9</td>\n",
              "      <td>2128</td>\n",
              "      <td>1</td>\n",
              "      <td>14:19</td>\n",
              "      <td>14:20</td>\n",
              "      <td>14:24</td>\n",
              "      <td>15:17</td>\n",
              "    </tr>\n",
              "  </tbody>\n",
              "</table>\n",
              "<p>21201 rows × 11 columns</p>\n",
              "</div>"
            ],
            "text/plain": [
              "       Platform_Type  ...  Arrival_at_Destination_-_Time 24\n",
              "0                  3  ...                             10:39\n",
              "1                  3  ...                             12:17\n",
              "2                  3  ...                             13:00\n",
              "3                  3  ...                             10:05\n",
              "4                  1  ...                             10:25\n",
              "...              ...  ...                               ...\n",
              "21196              3  ...                             16:20\n",
              "21197              3  ...                             10:46\n",
              "21198              3  ...                             18:40\n",
              "21199              1  ...                             10:08\n",
              "21200              3  ...                             15:17\n",
              "\n",
              "[21201 rows x 11 columns]"
            ]
          },
          "metadata": {
            "tags": []
          },
          "execution_count": 61
        }
      ]
    },
    {
      "cell_type": "markdown",
      "metadata": {
        "id": "MMHpbZF9PsyA",
        "colab_type": "text"
      },
      "source": [
        "spliting data into X and Y , first converting time into hours lapse since the day started"
      ]
    },
    {
      "cell_type": "code",
      "metadata": {
        "id": "NiQsdEEkPpW8",
        "colab_type": "code",
        "colab": {}
      },
      "source": [
        "new_df = new_df[['Platform_Type', 'Arrival_at_Pickup_-_Time 24','Confirmation_-_Time 24','Placement_-_Time 24','Business','Temperature','Distance_(KM)','Placement_-_Weekday_(Mo_=_1)','Placement_-_Day_of_Month','Platform_Type', 'Arrival_at_Destination_-_Time 24', 'Time_from_Pickup_to_Arrival']]\n",
        "new_df['Placement_-_Time 24'] = new_df['Placement_-_Time 24'].str.replace(':','.')\n",
        "new_df['Confirmation_-_Time 24'] = new_df['Confirmation_-_Time 24'].str.replace(':','.')\n",
        "new_df['Arrival_at_Pickup_-_Time 24'] = new_df['Arrival_at_Pickup_-_Time 24'].str.replace(':','.')\n",
        "new_df['Arrival_at_Destination_-_Time 24'] = new_df['Arrival_at_Destination_-_Time 24'].str.replace(':','.')\n",
        "new_df.head()\n",
        "\n",
        "\n",
        "dataset_test = dataset_test[['Platform_Type', 'Arrival_at_Pickup_-_Time 24','Confirmation_-_Time 24','Placement_-_Time 24','Business','Temperature','Distance_(KM)','Placement_-_Weekday_(Mo_=_1)','Placement_-_Day_of_Month','Platform_Type', 'Arrival_at_Destination_-_Time 24', 'Time_from_Pickup_to_Arrival']]\n",
        "dataset_test['Placement_-_Time 24'] = dataset_test['Placement_-_Time 24'].str.replace(':','.')\n",
        "dataset_test['Confirmation_-_Time 24'] = dataset_test['Confirmation_-_Time 24'].str.replace(':','.')\n",
        "dataset_test['Arrival_at_Pickup_-_Time 24'] = dataset_test['Arrival_at_Pickup_-_Time 24'].str.replace(':','.')\n",
        "dataset_test['Arrival_at_Destination_-_Time 24'] = dataset_test['Arrival_at_Destination_-_Time 24'].str.replace(':','.')\n",
        "\n"
      ],
      "execution_count": 0,
      "outputs": []
    },
    {
      "cell_type": "code",
      "metadata": {
        "id": "PeR1Kep0R4pS",
        "colab_type": "code",
        "colab": {}
      },
      "source": [
        "x =pd.DataFrame(new_df.iloc[:,:-1].values)\n",
        "y = new_df.iloc[:,-1].values\n",
        "\n",
        "\n",
        "x_test =pd.DataFrame(new_df.iloc[:,:-1].values)\n",
        "y_test= new_df.iloc[:,-1].values"
      ],
      "execution_count": 0,
      "outputs": []
    },
    {
      "cell_type": "markdown",
      "metadata": {
        "id": "oHfnc9_1Sjio",
        "colab_type": "text"
      },
      "source": [
        "Rescaling the x values using standardisation"
      ]
    },
    {
      "cell_type": "code",
      "metadata": {
        "id": "aRS-Gq77R85-",
        "colab_type": "code",
        "colab": {}
      },
      "source": [
        "from sklearn.preprocessing import StandardScaler\n",
        "scaler = StandardScaler()\n",
        "X_scaled = scaler.fit_transform(x)\n",
        "x_standardise = pd.DataFrame(X_scaled,columns=x.columns)\n",
        "#x_standardise.head()\n",
        "\n"
      ],
      "execution_count": 0,
      "outputs": []
    },
    {
      "cell_type": "code",
      "metadata": {
        "id": "t46SYQvKuOHF",
        "colab_type": "code",
        "colab": {}
      },
      "source": [
        "\n",
        "from sklearn.preprocessing import StandardScaler\n",
        "scaler = StandardScaler()\n",
        "x_scaledtest = scaler.fit_transform(x_test)\n",
        "x_standardisetest = pd.DataFrame(x_scaledtest,columns=x.columns)\n",
        "#x_standardisetest.head()"
      ],
      "execution_count": 0,
      "outputs": []
    },
    {
      "cell_type": "markdown",
      "metadata": {
        "id": "nvWj8_YQeYo_",
        "colab_type": "text"
      },
      "source": [
        "training a model using lasso"
      ]
    },
    {
      "cell_type": "code",
      "metadata": {
        "id": "2rFBOD70ebbu",
        "colab_type": "code",
        "colab": {}
      },
      "source": [
        "#from sklearn.linear_model import Lasso\n",
        "#lasso = Lasso(alpha=0.01)\n",
        "#lasso.fit(X_standardise, y)"
      ],
      "execution_count": 0,
      "outputs": []
    },
    {
      "cell_type": "code",
      "metadata": {
        "id": "BvJr-I72fMfe",
        "colab_type": "code",
        "colab": {}
      },
      "source": [
        "#from sklearn import metrics\n",
        "#train_lasso = lasso.predict(X_standardise)\n",
        "#test_lasso = lasso.predict(X_test)"
      ],
      "execution_count": 0,
      "outputs": []
    },
    {
      "cell_type": "code",
      "metadata": {
        "id": "0EAMM7QXT1t1",
        "colab_type": "code",
        "outputId": "aa7f2fef-baed-41c6-9ef0-4e2517d9f209",
        "colab": {
          "base_uri": "https://localhost:8080/",
          "height": 34
        }
      },
      "source": [
        "l=np.array(y_test)\n",
        "type(l)"
      ],
      "execution_count": 127,
      "outputs": [
        {
          "output_type": "execute_result",
          "data": {
            "text/plain": [
              "numpy.ndarray"
            ]
          },
          "metadata": {
            "tags": []
          },
          "execution_count": 127
        }
      ]
    },
    {
      "cell_type": "code",
      "metadata": {
        "id": "OYRP_LmSl8fN",
        "colab_type": "code",
        "colab": {}
      },
      "source": [
        ""
      ],
      "execution_count": 0,
      "outputs": []
    },
    {
      "cell_type": "markdown",
      "metadata": {
        "id": "ZeRjOZ3HquP6",
        "colab_type": "text"
      },
      "source": [
        "training using simple linear "
      ]
    },
    {
      "cell_type": "code",
      "metadata": {
        "id": "A1d88Q5HqxG9",
        "colab_type": "code",
        "outputId": "1c4aad30-4b06-4cc1-db91-574cc9fbc59e",
        "colab": {
          "base_uri": "https://localhost:8080/",
          "height": 34
        }
      },
      "source": [
        "from sklearn.linear_model import LinearRegression\n",
        "regressor =LinearRegression()\n",
        "regressor.fit(x, y)"
      ],
      "execution_count": 68,
      "outputs": [
        {
          "output_type": "execute_result",
          "data": {
            "text/plain": [
              "LinearRegression(copy_X=True, fit_intercept=True, n_jobs=None, normalize=False)"
            ]
          },
          "metadata": {
            "tags": []
          },
          "execution_count": 68
        }
      ]
    },
    {
      "cell_type": "code",
      "metadata": {
        "id": "3p7_oWQmrRp5",
        "colab_type": "code",
        "outputId": "0ced2415-022b-40aa-a5fe-83b1cf013109",
        "colab": {
          "base_uri": "https://localhost:8080/",
          "height": 197
        }
      },
      "source": [
        "y_pred= regressor.predict(x)\n",
        "np.set_printoptions(precision=2)\n",
        "f=pd.DataFrame(np.concatenate((y_pred.reshape(len(y_pred),1), y_test.reshape(len(y_pred),1)), 1))\n",
        "#f.to_csv('submission1.csv',index=False,columns=['Order_No','Time from Pickup to Arrival']))\n",
        "b=f[[1]]\n",
        "b.head()"
      ],
      "execution_count": 125,
      "outputs": [
        {
          "output_type": "execute_result",
          "data": {
            "text/html": [
              "<div>\n",
              "<style scoped>\n",
              "    .dataframe tbody tr th:only-of-type {\n",
              "        vertical-align: middle;\n",
              "    }\n",
              "\n",
              "    .dataframe tbody tr th {\n",
              "        vertical-align: top;\n",
              "    }\n",
              "\n",
              "    .dataframe thead th {\n",
              "        text-align: right;\n",
              "    }\n",
              "</style>\n",
              "<table border=\"1\" class=\"dataframe\">\n",
              "  <thead>\n",
              "    <tr style=\"text-align: right;\">\n",
              "      <th></th>\n",
              "      <th>1</th>\n",
              "    </tr>\n",
              "  </thead>\n",
              "  <tbody>\n",
              "    <tr>\n",
              "      <th>0</th>\n",
              "      <td>745.0</td>\n",
              "    </tr>\n",
              "    <tr>\n",
              "      <th>1</th>\n",
              "      <td>1993.0</td>\n",
              "    </tr>\n",
              "    <tr>\n",
              "      <th>2</th>\n",
              "      <td>455.0</td>\n",
              "    </tr>\n",
              "    <tr>\n",
              "      <th>3</th>\n",
              "      <td>1341.0</td>\n",
              "    </tr>\n",
              "    <tr>\n",
              "      <th>4</th>\n",
              "      <td>1214.0</td>\n",
              "    </tr>\n",
              "  </tbody>\n",
              "</table>\n",
              "</div>"
            ],
            "text/plain": [
              "        1\n",
              "0   745.0\n",
              "1  1993.0\n",
              "2   455.0\n",
              "3  1341.0\n",
              "4  1214.0"
            ]
          },
          "metadata": {
            "tags": []
          },
          "execution_count": 125
        }
      ]
    },
    {
      "cell_type": "code",
      "metadata": {
        "id": "vmEWIR3gvY95",
        "colab_type": "code",
        "colab": {}
      },
      "source": [
        "o= np.array(dataset['Order No'])\n",
        "final = np.vstack([o,l]).T\n",
        "r=pd.DataFrame(final)\n",
        "#r.rename(columns={'0': 'Order_No', '1':'Time from Pickup to Arrival'})\n",
        "\n",
        "r.to_csv('submision.csv', index=False)"
      ],
      "execution_count": 0,
      "outputs": []
    },
    {
      "cell_type": "code",
      "metadata": {
        "id": "wd0lUxqI_RMD",
        "colab_type": "code",
        "colab": {
          "base_uri": "https://localhost:8080/",
          "height": 197
        },
        "outputId": "08ea9fca-3aa7-4de9-f554-cb75d708727c"
      },
      "source": [
        "dataset_ = pd.read_csv('submision.csv')\n",
        "dataset_.head()\n"
      ],
      "execution_count": 163,
      "outputs": [
        {
          "output_type": "execute_result",
          "data": {
            "text/html": [
              "<div>\n",
              "<style scoped>\n",
              "    .dataframe tbody tr th:only-of-type {\n",
              "        vertical-align: middle;\n",
              "    }\n",
              "\n",
              "    .dataframe tbody tr th {\n",
              "        vertical-align: top;\n",
              "    }\n",
              "\n",
              "    .dataframe thead th {\n",
              "        text-align: right;\n",
              "    }\n",
              "</style>\n",
              "<table border=\"1\" class=\"dataframe\">\n",
              "  <thead>\n",
              "    <tr style=\"text-align: right;\">\n",
              "      <th></th>\n",
              "      <th>0</th>\n",
              "      <th>1</th>\n",
              "    </tr>\n",
              "  </thead>\n",
              "  <tbody>\n",
              "    <tr>\n",
              "      <th>0</th>\n",
              "      <td>Order_No_4211</td>\n",
              "      <td>745</td>\n",
              "    </tr>\n",
              "    <tr>\n",
              "      <th>1</th>\n",
              "      <td>Order_No_25375</td>\n",
              "      <td>1993</td>\n",
              "    </tr>\n",
              "    <tr>\n",
              "      <th>2</th>\n",
              "      <td>Order_No_1899</td>\n",
              "      <td>455</td>\n",
              "    </tr>\n",
              "    <tr>\n",
              "      <th>3</th>\n",
              "      <td>Order_No_9336</td>\n",
              "      <td>1341</td>\n",
              "    </tr>\n",
              "    <tr>\n",
              "      <th>4</th>\n",
              "      <td>Order_No_27883</td>\n",
              "      <td>1214</td>\n",
              "    </tr>\n",
              "  </tbody>\n",
              "</table>\n",
              "</div>"
            ],
            "text/plain": [
              "                0     1\n",
              "0   Order_No_4211   745\n",
              "1  Order_No_25375  1993\n",
              "2   Order_No_1899   455\n",
              "3   Order_No_9336  1341\n",
              "4  Order_No_27883  1214"
            ]
          },
          "metadata": {
            "tags": []
          },
          "execution_count": 163
        }
      ]
    },
    {
      "cell_type": "code",
      "metadata": {
        "id": "krA0bdwIUkdz",
        "colab_type": "code",
        "colab": {
          "base_uri": "https://localhost:8080/",
          "height": 52
        },
        "outputId": "4e24ad1a-b170-4093-96ff-c350f595593d"
      },
      "source": [
        "o"
      ],
      "execution_count": 156,
      "outputs": [
        {
          "output_type": "execute_result",
          "data": {
            "text/plain": [
              "array(['Order_No_4211', 'Order_No_25375', 'Order_No_1899', ...,\n",
              "       'Order_No_2831', 'Order_No_6174', 'Order_No_9836'], dtype=object)"
            ]
          },
          "metadata": {
            "tags": []
          },
          "execution_count": 156
        }
      ]
    },
    {
      "cell_type": "code",
      "metadata": {
        "id": "JmTSng-MS9UA",
        "colab_type": "code",
        "colab": {}
      },
      "source": [
        ""
      ],
      "execution_count": 0,
      "outputs": []
    }
  ]
}
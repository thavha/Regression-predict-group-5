{
  "nbformat": 4,
  "nbformat_minor": 0,
  "metadata": {
    "colab": {
      "name": "regression.ipynb",
      "provenance": [],
      "collapsed_sections": [],
      "toc_visible": true,
      "include_colab_link": true
    },
    "kernelspec": {
      "name": "python3",
      "display_name": "Python 3"
    }
  },
  "cells": [
    {
      "cell_type": "markdown",
      "metadata": {
        "id": "view-in-github",
        "colab_type": "text"
      },
      "source": [
        "<a href=\"https://colab.research.google.com/github/thavha/Regression-predict-group-5/blob/master/regression%20sat.ipynb\" target=\"_parent\"><img src=\"https://colab.research.google.com/assets/colab-badge.svg\" alt=\"Open In Colab\"/></a>"
      ]
    },
    {
      "cell_type": "markdown",
      "metadata": {
        "id": "7dWqazJQhLWs",
        "colab_type": "text"
      },
      "source": [
        "**Data Preprocessing**\n",
        "Importing Liabraries\n"
      ]
    },
    {
      "cell_type": "code",
      "metadata": {
        "id": "bEST_rerhidK",
        "colab_type": "code",
        "colab": {}
      },
      "source": [
        "import numpy as np\n",
        "import matplotlib.pyplot as plt\n",
        "import pandas as pd\n",
        "import seaborn as sns"
      ],
      "execution_count": 0,
      "outputs": []
    },
    {
      "cell_type": "markdown",
      "metadata": {
        "id": "_eC-1uEgh03Y",
        "colab_type": "text"
      },
      "source": [
        "**Importing the data set** and checking the data"
      ]
    },
    {
      "cell_type": "code",
      "metadata": {
        "id": "JoYZzfmsiFZD",
        "colab_type": "code",
        "colab": {}
      },
      "source": [
        "dataset = pd.read_csv('Train.csv')\n",
        "###x =dataset.iloc[:,:-1].values\n",
        "###y = dataset.iloc[:,-1].values"
      ],
      "execution_count": 0,
      "outputs": []
    },
    {
      "cell_type": "code",
      "metadata": {
        "id": "er__GqbVigR1",
        "colab_type": "code",
        "outputId": "bc629096-c28d-493f-abd2-e90b70f4bcbf",
        "colab": {
          "base_uri": "https://localhost:8080/",
          "height": 629
        }
      },
      "source": [
        "dataset.info()"
      ],
      "execution_count": 19,
      "outputs": [
        {
          "output_type": "stream",
          "text": [
            "<class 'pandas.core.frame.DataFrame'>\n",
            "RangeIndex: 21201 entries, 0 to 21200\n",
            "Data columns (total 29 columns):\n",
            " #   Column                                     Non-Null Count  Dtype  \n",
            "---  ------                                     --------------  -----  \n",
            " 0   Order No                                   21201 non-null  object \n",
            " 1   User Id                                    21201 non-null  object \n",
            " 2   Vehicle Type                               21201 non-null  object \n",
            " 3   Platform Type                              21201 non-null  int64  \n",
            " 4   Personal or Business                       21201 non-null  object \n",
            " 5   Placement - Day of Month                   21201 non-null  int64  \n",
            " 6   Placement - Weekday (Mo = 1)               21201 non-null  int64  \n",
            " 7   Placement - Time                           21201 non-null  object \n",
            " 8   Confirmation - Day of Month                21201 non-null  int64  \n",
            " 9   Confirmation - Weekday (Mo = 1)            21201 non-null  int64  \n",
            " 10  Confirmation - Time                        21201 non-null  object \n",
            " 11  Arrival at Pickup - Day of Month           21201 non-null  int64  \n",
            " 12  Arrival at Pickup - Weekday (Mo = 1)       21201 non-null  int64  \n",
            " 13  Arrival at Pickup - Time                   21201 non-null  object \n",
            " 14  Pickup - Day of Month                      21201 non-null  int64  \n",
            " 15  Pickup - Weekday (Mo = 1)                  21201 non-null  int64  \n",
            " 16  Pickup - Time                              21201 non-null  object \n",
            " 17  Arrival at Destination - Day of Month      21201 non-null  int64  \n",
            " 18  Arrival at Destination - Weekday (Mo = 1)  21201 non-null  int64  \n",
            " 19  Arrival at Destination - Time              21201 non-null  object \n",
            " 20  Distance (KM)                              21201 non-null  int64  \n",
            " 21  Temperature                                16835 non-null  float64\n",
            " 22  Precipitation in millimeters               552 non-null    float64\n",
            " 23  Pickup Lat                                 21201 non-null  float64\n",
            " 24  Pickup Long                                21201 non-null  float64\n",
            " 25  Destination Lat                            21201 non-null  float64\n",
            " 26  Destination Long                           21201 non-null  float64\n",
            " 27  Rider Id                                   21201 non-null  object \n",
            " 28  Time from Pickup to Arrival                21201 non-null  int64  \n",
            "dtypes: float64(6), int64(13), object(10)\n",
            "memory usage: 4.7+ MB\n"
          ],
          "name": "stdout"
        }
      ]
    },
    {
      "cell_type": "markdown",
      "metadata": {
        "id": "-3EShME77uR4",
        "colab_type": "text"
      },
      "source": [
        "selecting only the rlevent  columns that will be used for the model and replacing white space with _ on columns names"
      ]
    },
    {
      "cell_type": "code",
      "metadata": {
        "id": "SM6llGGs7y6u",
        "colab_type": "code",
        "colab": {}
      },
      "source": [
        "new_df = dataset[['User Id','Platform Type','Personal or Business','Placement - Day of Month','Placement - Weekday (Mo = 1)','Placement - Time','Confirmation - Time','Arrival at Pickup - Time','Arrival at Destination - Time','Distance (KM)','Temperature','Rider Id','Time from Pickup to Arrival']].copy()\n",
        "new_df.columns = [col.replace(\" \",\"_\") for col in new_df.columns] \n"
      ],
      "execution_count": 0,
      "outputs": []
    },
    {
      "cell_type": "code",
      "metadata": {
        "id": "zO9EDJQM-GjQ",
        "colab_type": "code",
        "outputId": "3cd88e3d-a002-4c2a-9ec6-395e3aa5e8f3",
        "colab": {
          "base_uri": "https://localhost:8080/",
          "height": 241
        }
      },
      "source": [
        "new_df.head()"
      ],
      "execution_count": 21,
      "outputs": [
        {
          "output_type": "execute_result",
          "data": {
            "text/html": [
              "<div>\n",
              "<style scoped>\n",
              "    .dataframe tbody tr th:only-of-type {\n",
              "        vertical-align: middle;\n",
              "    }\n",
              "\n",
              "    .dataframe tbody tr th {\n",
              "        vertical-align: top;\n",
              "    }\n",
              "\n",
              "    .dataframe thead th {\n",
              "        text-align: right;\n",
              "    }\n",
              "</style>\n",
              "<table border=\"1\" class=\"dataframe\">\n",
              "  <thead>\n",
              "    <tr style=\"text-align: right;\">\n",
              "      <th></th>\n",
              "      <th>User_Id</th>\n",
              "      <th>Platform_Type</th>\n",
              "      <th>Personal_or_Business</th>\n",
              "      <th>Placement_-_Day_of_Month</th>\n",
              "      <th>Placement_-_Weekday_(Mo_=_1)</th>\n",
              "      <th>Placement_-_Time</th>\n",
              "      <th>Confirmation_-_Time</th>\n",
              "      <th>Arrival_at_Pickup_-_Time</th>\n",
              "      <th>Arrival_at_Destination_-_Time</th>\n",
              "      <th>Distance_(KM)</th>\n",
              "      <th>Temperature</th>\n",
              "      <th>Rider_Id</th>\n",
              "      <th>Time_from_Pickup_to_Arrival</th>\n",
              "    </tr>\n",
              "  </thead>\n",
              "  <tbody>\n",
              "    <tr>\n",
              "      <th>0</th>\n",
              "      <td>User_Id_633</td>\n",
              "      <td>3</td>\n",
              "      <td>Business</td>\n",
              "      <td>9</td>\n",
              "      <td>5</td>\n",
              "      <td>9:35:46 AM</td>\n",
              "      <td>9:40:10 AM</td>\n",
              "      <td>10:04:47 AM</td>\n",
              "      <td>10:39:55 AM</td>\n",
              "      <td>4</td>\n",
              "      <td>20.4</td>\n",
              "      <td>Rider_Id_432</td>\n",
              "      <td>745</td>\n",
              "    </tr>\n",
              "    <tr>\n",
              "      <th>1</th>\n",
              "      <td>User_Id_2285</td>\n",
              "      <td>3</td>\n",
              "      <td>Personal</td>\n",
              "      <td>12</td>\n",
              "      <td>5</td>\n",
              "      <td>11:16:16 AM</td>\n",
              "      <td>11:23:21 AM</td>\n",
              "      <td>11:40:22 AM</td>\n",
              "      <td>12:17:22 PM</td>\n",
              "      <td>16</td>\n",
              "      <td>26.4</td>\n",
              "      <td>Rider_Id_856</td>\n",
              "      <td>1993</td>\n",
              "    </tr>\n",
              "    <tr>\n",
              "      <th>2</th>\n",
              "      <td>User_Id_265</td>\n",
              "      <td>3</td>\n",
              "      <td>Business</td>\n",
              "      <td>30</td>\n",
              "      <td>2</td>\n",
              "      <td>12:39:25 PM</td>\n",
              "      <td>12:42:44 PM</td>\n",
              "      <td>12:49:34 PM</td>\n",
              "      <td>1:00:38 PM</td>\n",
              "      <td>3</td>\n",
              "      <td>NaN</td>\n",
              "      <td>Rider_Id_155</td>\n",
              "      <td>455</td>\n",
              "    </tr>\n",
              "    <tr>\n",
              "      <th>3</th>\n",
              "      <td>User_Id_1402</td>\n",
              "      <td>3</td>\n",
              "      <td>Business</td>\n",
              "      <td>15</td>\n",
              "      <td>5</td>\n",
              "      <td>9:25:34 AM</td>\n",
              "      <td>9:26:05 AM</td>\n",
              "      <td>9:37:56 AM</td>\n",
              "      <td>10:05:27 AM</td>\n",
              "      <td>9</td>\n",
              "      <td>19.2</td>\n",
              "      <td>Rider_Id_855</td>\n",
              "      <td>1341</td>\n",
              "    </tr>\n",
              "    <tr>\n",
              "      <th>4</th>\n",
              "      <td>User_Id_1737</td>\n",
              "      <td>1</td>\n",
              "      <td>Personal</td>\n",
              "      <td>13</td>\n",
              "      <td>1</td>\n",
              "      <td>9:55:18 AM</td>\n",
              "      <td>9:56:18 AM</td>\n",
              "      <td>10:03:53 AM</td>\n",
              "      <td>10:25:37 AM</td>\n",
              "      <td>9</td>\n",
              "      <td>15.4</td>\n",
              "      <td>Rider_Id_770</td>\n",
              "      <td>1214</td>\n",
              "    </tr>\n",
              "  </tbody>\n",
              "</table>\n",
              "</div>"
            ],
            "text/plain": [
              "        User_Id  Platform_Type  ...      Rider_Id  Time_from_Pickup_to_Arrival\n",
              "0   User_Id_633              3  ...  Rider_Id_432                          745\n",
              "1  User_Id_2285              3  ...  Rider_Id_856                         1993\n",
              "2   User_Id_265              3  ...  Rider_Id_155                          455\n",
              "3  User_Id_1402              3  ...  Rider_Id_855                         1341\n",
              "4  User_Id_1737              1  ...  Rider_Id_770                         1214\n",
              "\n",
              "[5 rows x 13 columns]"
            ]
          },
          "metadata": {
            "tags": []
          },
          "execution_count": 21
        }
      ]
    },
    {
      "cell_type": "markdown",
      "metadata": {
        "id": "ttIbhriI_Hku",
        "colab_type": "text"
      },
      "source": [
        "encoding personal or business column\n"
      ]
    },
    {
      "cell_type": "code",
      "metadata": {
        "id": "U07kf8Tj8dxi",
        "colab_type": "code",
        "outputId": "3574aa64-a211-4d11-b7cb-b8d70aa12b6e",
        "colab": {
          "base_uri": "https://localhost:8080/",
          "height": 241
        }
      },
      "source": [
        "new_df = pd.get_dummies(new_df, columns=['Personal_or_Business'], prefix = ['personal'])\n",
        "new_df = new_df.iloc[:, :-1]\n",
        "new_df.columns = [*new_df.columns[:-1], 'Business']\n",
        "new_df.head()"
      ],
      "execution_count": 22,
      "outputs": [
        {
          "output_type": "execute_result",
          "data": {
            "text/html": [
              "<div>\n",
              "<style scoped>\n",
              "    .dataframe tbody tr th:only-of-type {\n",
              "        vertical-align: middle;\n",
              "    }\n",
              "\n",
              "    .dataframe tbody tr th {\n",
              "        vertical-align: top;\n",
              "    }\n",
              "\n",
              "    .dataframe thead th {\n",
              "        text-align: right;\n",
              "    }\n",
              "</style>\n",
              "<table border=\"1\" class=\"dataframe\">\n",
              "  <thead>\n",
              "    <tr style=\"text-align: right;\">\n",
              "      <th></th>\n",
              "      <th>User_Id</th>\n",
              "      <th>Platform_Type</th>\n",
              "      <th>Placement_-_Day_of_Month</th>\n",
              "      <th>Placement_-_Weekday_(Mo_=_1)</th>\n",
              "      <th>Placement_-_Time</th>\n",
              "      <th>Confirmation_-_Time</th>\n",
              "      <th>Arrival_at_Pickup_-_Time</th>\n",
              "      <th>Arrival_at_Destination_-_Time</th>\n",
              "      <th>Distance_(KM)</th>\n",
              "      <th>Temperature</th>\n",
              "      <th>Rider_Id</th>\n",
              "      <th>Time_from_Pickup_to_Arrival</th>\n",
              "      <th>Business</th>\n",
              "    </tr>\n",
              "  </thead>\n",
              "  <tbody>\n",
              "    <tr>\n",
              "      <th>0</th>\n",
              "      <td>User_Id_633</td>\n",
              "      <td>3</td>\n",
              "      <td>9</td>\n",
              "      <td>5</td>\n",
              "      <td>9:35:46 AM</td>\n",
              "      <td>9:40:10 AM</td>\n",
              "      <td>10:04:47 AM</td>\n",
              "      <td>10:39:55 AM</td>\n",
              "      <td>4</td>\n",
              "      <td>20.4</td>\n",
              "      <td>Rider_Id_432</td>\n",
              "      <td>745</td>\n",
              "      <td>1</td>\n",
              "    </tr>\n",
              "    <tr>\n",
              "      <th>1</th>\n",
              "      <td>User_Id_2285</td>\n",
              "      <td>3</td>\n",
              "      <td>12</td>\n",
              "      <td>5</td>\n",
              "      <td>11:16:16 AM</td>\n",
              "      <td>11:23:21 AM</td>\n",
              "      <td>11:40:22 AM</td>\n",
              "      <td>12:17:22 PM</td>\n",
              "      <td>16</td>\n",
              "      <td>26.4</td>\n",
              "      <td>Rider_Id_856</td>\n",
              "      <td>1993</td>\n",
              "      <td>0</td>\n",
              "    </tr>\n",
              "    <tr>\n",
              "      <th>2</th>\n",
              "      <td>User_Id_265</td>\n",
              "      <td>3</td>\n",
              "      <td>30</td>\n",
              "      <td>2</td>\n",
              "      <td>12:39:25 PM</td>\n",
              "      <td>12:42:44 PM</td>\n",
              "      <td>12:49:34 PM</td>\n",
              "      <td>1:00:38 PM</td>\n",
              "      <td>3</td>\n",
              "      <td>NaN</td>\n",
              "      <td>Rider_Id_155</td>\n",
              "      <td>455</td>\n",
              "      <td>1</td>\n",
              "    </tr>\n",
              "    <tr>\n",
              "      <th>3</th>\n",
              "      <td>User_Id_1402</td>\n",
              "      <td>3</td>\n",
              "      <td>15</td>\n",
              "      <td>5</td>\n",
              "      <td>9:25:34 AM</td>\n",
              "      <td>9:26:05 AM</td>\n",
              "      <td>9:37:56 AM</td>\n",
              "      <td>10:05:27 AM</td>\n",
              "      <td>9</td>\n",
              "      <td>19.2</td>\n",
              "      <td>Rider_Id_855</td>\n",
              "      <td>1341</td>\n",
              "      <td>1</td>\n",
              "    </tr>\n",
              "    <tr>\n",
              "      <th>4</th>\n",
              "      <td>User_Id_1737</td>\n",
              "      <td>1</td>\n",
              "      <td>13</td>\n",
              "      <td>1</td>\n",
              "      <td>9:55:18 AM</td>\n",
              "      <td>9:56:18 AM</td>\n",
              "      <td>10:03:53 AM</td>\n",
              "      <td>10:25:37 AM</td>\n",
              "      <td>9</td>\n",
              "      <td>15.4</td>\n",
              "      <td>Rider_Id_770</td>\n",
              "      <td>1214</td>\n",
              "      <td>0</td>\n",
              "    </tr>\n",
              "  </tbody>\n",
              "</table>\n",
              "</div>"
            ],
            "text/plain": [
              "        User_Id  Platform_Type  ...  Time_from_Pickup_to_Arrival  Business\n",
              "0   User_Id_633              3  ...                          745         1\n",
              "1  User_Id_2285              3  ...                         1993         0\n",
              "2   User_Id_265              3  ...                          455         1\n",
              "3  User_Id_1402              3  ...                         1341         1\n",
              "4  User_Id_1737              1  ...                         1214         0\n",
              "\n",
              "[5 rows x 13 columns]"
            ]
          },
          "metadata": {
            "tags": []
          },
          "execution_count": 22
        }
      ]
    },
    {
      "cell_type": "code",
      "metadata": {
        "id": "Tc-ZkaTtY7e4",
        "colab_type": "code",
        "colab": {}
      },
      "source": [
        ""
      ],
      "execution_count": 0,
      "outputs": []
    },
    {
      "cell_type": "markdown",
      "metadata": {
        "id": "CY6DfwObC3kv",
        "colab_type": "text"
      },
      "source": [
        "dealing with the missing valuse replace with the mean/median temperature "
      ]
    },
    {
      "cell_type": "code",
      "metadata": {
        "id": "xxFsftuKC68O",
        "colab_type": "code",
        "outputId": "fc7fb9d4-3f97-4e3c-a753-417725009368",
        "colab": {
          "base_uri": "https://localhost:8080/",
          "height": 241
        }
      },
      "source": [
        "new_df['Temperature'] = new_df.Temperature.fillna(new_df.Temperature.median())\n",
        "new_df.head()"
      ],
      "execution_count": 23,
      "outputs": [
        {
          "output_type": "execute_result",
          "data": {
            "text/html": [
              "<div>\n",
              "<style scoped>\n",
              "    .dataframe tbody tr th:only-of-type {\n",
              "        vertical-align: middle;\n",
              "    }\n",
              "\n",
              "    .dataframe tbody tr th {\n",
              "        vertical-align: top;\n",
              "    }\n",
              "\n",
              "    .dataframe thead th {\n",
              "        text-align: right;\n",
              "    }\n",
              "</style>\n",
              "<table border=\"1\" class=\"dataframe\">\n",
              "  <thead>\n",
              "    <tr style=\"text-align: right;\">\n",
              "      <th></th>\n",
              "      <th>User_Id</th>\n",
              "      <th>Platform_Type</th>\n",
              "      <th>Placement_-_Day_of_Month</th>\n",
              "      <th>Placement_-_Weekday_(Mo_=_1)</th>\n",
              "      <th>Placement_-_Time</th>\n",
              "      <th>Confirmation_-_Time</th>\n",
              "      <th>Arrival_at_Pickup_-_Time</th>\n",
              "      <th>Arrival_at_Destination_-_Time</th>\n",
              "      <th>Distance_(KM)</th>\n",
              "      <th>Temperature</th>\n",
              "      <th>Rider_Id</th>\n",
              "      <th>Time_from_Pickup_to_Arrival</th>\n",
              "      <th>Business</th>\n",
              "    </tr>\n",
              "  </thead>\n",
              "  <tbody>\n",
              "    <tr>\n",
              "      <th>0</th>\n",
              "      <td>User_Id_633</td>\n",
              "      <td>3</td>\n",
              "      <td>9</td>\n",
              "      <td>5</td>\n",
              "      <td>9:35:46 AM</td>\n",
              "      <td>9:40:10 AM</td>\n",
              "      <td>10:04:47 AM</td>\n",
              "      <td>10:39:55 AM</td>\n",
              "      <td>4</td>\n",
              "      <td>20.4</td>\n",
              "      <td>Rider_Id_432</td>\n",
              "      <td>745</td>\n",
              "      <td>1</td>\n",
              "    </tr>\n",
              "    <tr>\n",
              "      <th>1</th>\n",
              "      <td>User_Id_2285</td>\n",
              "      <td>3</td>\n",
              "      <td>12</td>\n",
              "      <td>5</td>\n",
              "      <td>11:16:16 AM</td>\n",
              "      <td>11:23:21 AM</td>\n",
              "      <td>11:40:22 AM</td>\n",
              "      <td>12:17:22 PM</td>\n",
              "      <td>16</td>\n",
              "      <td>26.4</td>\n",
              "      <td>Rider_Id_856</td>\n",
              "      <td>1993</td>\n",
              "      <td>0</td>\n",
              "    </tr>\n",
              "    <tr>\n",
              "      <th>2</th>\n",
              "      <td>User_Id_265</td>\n",
              "      <td>3</td>\n",
              "      <td>30</td>\n",
              "      <td>2</td>\n",
              "      <td>12:39:25 PM</td>\n",
              "      <td>12:42:44 PM</td>\n",
              "      <td>12:49:34 PM</td>\n",
              "      <td>1:00:38 PM</td>\n",
              "      <td>3</td>\n",
              "      <td>23.5</td>\n",
              "      <td>Rider_Id_155</td>\n",
              "      <td>455</td>\n",
              "      <td>1</td>\n",
              "    </tr>\n",
              "    <tr>\n",
              "      <th>3</th>\n",
              "      <td>User_Id_1402</td>\n",
              "      <td>3</td>\n",
              "      <td>15</td>\n",
              "      <td>5</td>\n",
              "      <td>9:25:34 AM</td>\n",
              "      <td>9:26:05 AM</td>\n",
              "      <td>9:37:56 AM</td>\n",
              "      <td>10:05:27 AM</td>\n",
              "      <td>9</td>\n",
              "      <td>19.2</td>\n",
              "      <td>Rider_Id_855</td>\n",
              "      <td>1341</td>\n",
              "      <td>1</td>\n",
              "    </tr>\n",
              "    <tr>\n",
              "      <th>4</th>\n",
              "      <td>User_Id_1737</td>\n",
              "      <td>1</td>\n",
              "      <td>13</td>\n",
              "      <td>1</td>\n",
              "      <td>9:55:18 AM</td>\n",
              "      <td>9:56:18 AM</td>\n",
              "      <td>10:03:53 AM</td>\n",
              "      <td>10:25:37 AM</td>\n",
              "      <td>9</td>\n",
              "      <td>15.4</td>\n",
              "      <td>Rider_Id_770</td>\n",
              "      <td>1214</td>\n",
              "      <td>0</td>\n",
              "    </tr>\n",
              "  </tbody>\n",
              "</table>\n",
              "</div>"
            ],
            "text/plain": [
              "        User_Id  Platform_Type  ...  Time_from_Pickup_to_Arrival  Business\n",
              "0   User_Id_633              3  ...                          745         1\n",
              "1  User_Id_2285              3  ...                         1993         0\n",
              "2   User_Id_265              3  ...                          455         1\n",
              "3  User_Id_1402              3  ...                         1341         1\n",
              "4  User_Id_1737              1  ...                         1214         0\n",
              "\n",
              "[5 rows x 13 columns]"
            ]
          },
          "metadata": {
            "tags": []
          },
          "execution_count": 23
        }
      ]
    },
    {
      "cell_type": "markdown",
      "metadata": {
        "id": "VghL59-i4fVx",
        "colab_type": "text"
      },
      "source": [
        "dealing with time columns"
      ]
    },
    {
      "cell_type": "code",
      "metadata": {
        "id": "eKOMkTR4D-dl",
        "colab_type": "code",
        "colab": {}
      },
      "source": [
        "new_df['Placement_-_Time 24'] = (pd.to_datetime(new_df['Placement_-_Time'].str.strip(), format='%I:%M:%S %p')\n",
        "                  .dt.strftime('%H:%M'))"
      ],
      "execution_count": 0,
      "outputs": []
    },
    {
      "cell_type": "code",
      "metadata": {
        "id": "VHybX5hHivuA",
        "colab_type": "code",
        "colab": {
          "base_uri": "https://localhost:8080/",
          "height": 241
        },
        "outputId": "36b29ad9-dc46-496b-f835-97c402324e8e"
      },
      "source": [
        "new_df.head()"
      ],
      "execution_count": 26,
      "outputs": [
        {
          "output_type": "execute_result",
          "data": {
            "text/html": [
              "<div>\n",
              "<style scoped>\n",
              "    .dataframe tbody tr th:only-of-type {\n",
              "        vertical-align: middle;\n",
              "    }\n",
              "\n",
              "    .dataframe tbody tr th {\n",
              "        vertical-align: top;\n",
              "    }\n",
              "\n",
              "    .dataframe thead th {\n",
              "        text-align: right;\n",
              "    }\n",
              "</style>\n",
              "<table border=\"1\" class=\"dataframe\">\n",
              "  <thead>\n",
              "    <tr style=\"text-align: right;\">\n",
              "      <th></th>\n",
              "      <th>User_Id</th>\n",
              "      <th>Platform_Type</th>\n",
              "      <th>Placement_-_Day_of_Month</th>\n",
              "      <th>Placement_-_Weekday_(Mo_=_1)</th>\n",
              "      <th>Placement_-_Time</th>\n",
              "      <th>Confirmation_-_Time</th>\n",
              "      <th>Arrival_at_Pickup_-_Time</th>\n",
              "      <th>Arrival_at_Destination_-_Time</th>\n",
              "      <th>Distance_(KM)</th>\n",
              "      <th>Temperature</th>\n",
              "      <th>Rider_Id</th>\n",
              "      <th>Time_from_Pickup_to_Arrival</th>\n",
              "      <th>Business</th>\n",
              "      <th>Placement_-_Time 24</th>\n",
              "    </tr>\n",
              "  </thead>\n",
              "  <tbody>\n",
              "    <tr>\n",
              "      <th>0</th>\n",
              "      <td>User_Id_633</td>\n",
              "      <td>3</td>\n",
              "      <td>9</td>\n",
              "      <td>5</td>\n",
              "      <td>9:35:46 AM</td>\n",
              "      <td>9:40:10 AM</td>\n",
              "      <td>10:04:47 AM</td>\n",
              "      <td>10:39:55 AM</td>\n",
              "      <td>4</td>\n",
              "      <td>20.4</td>\n",
              "      <td>Rider_Id_432</td>\n",
              "      <td>745</td>\n",
              "      <td>1</td>\n",
              "      <td>09:35</td>\n",
              "    </tr>\n",
              "    <tr>\n",
              "      <th>1</th>\n",
              "      <td>User_Id_2285</td>\n",
              "      <td>3</td>\n",
              "      <td>12</td>\n",
              "      <td>5</td>\n",
              "      <td>11:16:16 AM</td>\n",
              "      <td>11:23:21 AM</td>\n",
              "      <td>11:40:22 AM</td>\n",
              "      <td>12:17:22 PM</td>\n",
              "      <td>16</td>\n",
              "      <td>26.4</td>\n",
              "      <td>Rider_Id_856</td>\n",
              "      <td>1993</td>\n",
              "      <td>0</td>\n",
              "      <td>11:16</td>\n",
              "    </tr>\n",
              "    <tr>\n",
              "      <th>2</th>\n",
              "      <td>User_Id_265</td>\n",
              "      <td>3</td>\n",
              "      <td>30</td>\n",
              "      <td>2</td>\n",
              "      <td>12:39:25 PM</td>\n",
              "      <td>12:42:44 PM</td>\n",
              "      <td>12:49:34 PM</td>\n",
              "      <td>1:00:38 PM</td>\n",
              "      <td>3</td>\n",
              "      <td>23.5</td>\n",
              "      <td>Rider_Id_155</td>\n",
              "      <td>455</td>\n",
              "      <td>1</td>\n",
              "      <td>12:39</td>\n",
              "    </tr>\n",
              "    <tr>\n",
              "      <th>3</th>\n",
              "      <td>User_Id_1402</td>\n",
              "      <td>3</td>\n",
              "      <td>15</td>\n",
              "      <td>5</td>\n",
              "      <td>9:25:34 AM</td>\n",
              "      <td>9:26:05 AM</td>\n",
              "      <td>9:37:56 AM</td>\n",
              "      <td>10:05:27 AM</td>\n",
              "      <td>9</td>\n",
              "      <td>19.2</td>\n",
              "      <td>Rider_Id_855</td>\n",
              "      <td>1341</td>\n",
              "      <td>1</td>\n",
              "      <td>09:25</td>\n",
              "    </tr>\n",
              "    <tr>\n",
              "      <th>4</th>\n",
              "      <td>User_Id_1737</td>\n",
              "      <td>1</td>\n",
              "      <td>13</td>\n",
              "      <td>1</td>\n",
              "      <td>9:55:18 AM</td>\n",
              "      <td>9:56:18 AM</td>\n",
              "      <td>10:03:53 AM</td>\n",
              "      <td>10:25:37 AM</td>\n",
              "      <td>9</td>\n",
              "      <td>15.4</td>\n",
              "      <td>Rider_Id_770</td>\n",
              "      <td>1214</td>\n",
              "      <td>0</td>\n",
              "      <td>09:55</td>\n",
              "    </tr>\n",
              "  </tbody>\n",
              "</table>\n",
              "</div>"
            ],
            "text/plain": [
              "        User_Id  Platform_Type  ...  Business  Placement_-_Time 24\n",
              "0   User_Id_633              3  ...         1                09:35\n",
              "1  User_Id_2285              3  ...         0                11:16\n",
              "2   User_Id_265              3  ...         1                12:39\n",
              "3  User_Id_1402              3  ...         1                09:25\n",
              "4  User_Id_1737              1  ...         0                09:55\n",
              "\n",
              "[5 rows x 14 columns]"
            ]
          },
          "metadata": {
            "tags": []
          },
          "execution_count": 26
        }
      ]
    },
    {
      "cell_type": "code",
      "metadata": {
        "id": "8De6RpakGZDZ",
        "colab_type": "code",
        "colab": {}
      },
      "source": [
        ""
      ],
      "execution_count": 0,
      "outputs": []
    }
  ]
}